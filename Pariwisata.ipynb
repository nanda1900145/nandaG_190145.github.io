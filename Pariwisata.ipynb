{
  "nbformat": 4,
  "nbformat_minor": 0,
  "metadata": {
    "colab": {
      "provenance": [],
      "authorship_tag": "ABX9TyNibIPsF2I8B7R9365sNEOr",
      "include_colab_link": true
    },
    "kernelspec": {
      "name": "python3",
      "display_name": "Python 3"
    },
    "language_info": {
      "name": "python"
    }
  },
  "cells": [
    {
      "cell_type": "markdown",
      "metadata": {
        "id": "view-in-github",
        "colab_type": "text"
      },
      "source": [
        "<a href=\"https://colab.research.google.com/github/nanda1900145/nandaG_190145.github.io/blob/main/Pariwisata.ipynb\" target=\"_parent\"><img src=\"https://colab.research.google.com/assets/colab-badge.svg\" alt=\"Open In Colab\"/></a>"
      ]
    },
    {
      "cell_type": "code",
      "source": [
        "from google.colab import drive\n",
        "drive.mount('/content/drive')"
      ],
      "metadata": {
        "colab": {
          "base_uri": "https://localhost:8080/"
        },
        "id": "oAZBHo_oMTz4",
        "outputId": "c75d9dd5-36c6-4ddf-8956-b7a2f57f6a7e"
      },
      "execution_count": null,
      "outputs": [
        {
          "output_type": "stream",
          "name": "stdout",
          "text": [
            "Mounted at /content/drive\n"
          ]
        }
      ]
    },
    {
      "cell_type": "code",
      "source": [
        "import os\n",
        "os.environ['KAGGLE_USERNAME'] = \"nandageraldy\"\n",
        "os.environ['KAGGLE_KEY'] = \"56bf380660a39ebc244ce631ae13eedd\""
      ],
      "metadata": {
        "id": "RR3JysG4L3Qo"
      },
      "execution_count": null,
      "outputs": []
    },
    {
      "cell_type": "code",
      "source": [
        "!kaggle datasets download -d aprabowo/indonesia-tourism-destination"
      ],
      "metadata": {
        "colab": {
          "base_uri": "https://localhost:8080/"
        },
        "id": "Z05drB7kMF2i",
        "outputId": "3ed1b314-9846-4139-905d-7455f7e224bd"
      },
      "execution_count": null,
      "outputs": [
        {
          "output_type": "stream",
          "name": "stdout",
          "text": [
            "Downloading indonesia-tourism-destination.zip to /content\n",
            "\r  0% 0.00/158k [00:00<?, ?B/s]\n",
            "\r100% 158k/158k [00:00<00:00, 67.6MB/s]\n"
          ]
        }
      ]
    },
    {
      "cell_type": "code",
      "source": [
        "!unzip indonesia-tourism-destination.zip"
      ],
      "metadata": {
        "colab": {
          "base_uri": "https://localhost:8080/"
        },
        "id": "GNwmDtylMLDP",
        "outputId": "a60bf241-a985-44ca-a92d-3dfd66bbbe40"
      },
      "execution_count": null,
      "outputs": [
        {
          "output_type": "stream",
          "name": "stdout",
          "text": [
            "Archive:  indonesia-tourism-destination.zip\n",
            "  inflating: package_tourism.csv     \n",
            "  inflating: tourism_rating.csv      \n",
            "  inflating: tourism_with_id.csv     \n",
            "  inflating: user.csv                \n"
          ]
        }
      ]
    },
    {
      "cell_type": "code",
      "source": [
        "!pip install Sastrawi"
      ],
      "metadata": {
        "id": "tgWS0SHkMj6e",
        "colab": {
          "base_uri": "https://localhost:8080/"
        },
        "outputId": "8a789f9f-6cd9-4eb7-d421-4951a812bad2"
      },
      "execution_count": null,
      "outputs": [
        {
          "output_type": "stream",
          "name": "stdout",
          "text": [
            "Looking in indexes: https://pypi.org/simple, https://us-python.pkg.dev/colab-wheels/public/simple/\n",
            "Collecting Sastrawi\n",
            "  Downloading Sastrawi-1.0.1-py2.py3-none-any.whl (209 kB)\n",
            "\u001b[2K     \u001b[90m━━━━━━━━━━━━━━━━━━━━━━━━━━━━━━━━━━━━━━━\u001b[0m \u001b[32m209.7/209.7 kB\u001b[0m \u001b[31m7.8 MB/s\u001b[0m eta \u001b[36m0:00:00\u001b[0m\n",
            "\u001b[?25hInstalling collected packages: Sastrawi\n",
            "Successfully installed Sastrawi-1.0.1\n"
          ]
        }
      ]
    },
    {
      "cell_type": "code",
      "source": [
        "# Untuk pengolahan data\n",
        "import pandas as pd\n",
        "import numpy as np\n",
        "from zipfile import ZipFile\n",
        "from pathlib import Path\n",
        "\n",
        "# Untuk visualisasi data\n",
        "import seaborn as sns\n",
        "import matplotlib.pyplot as plt\n",
        "\n",
        "%matplotlib inline\n",
        "sns.set_palette('Set1')\n",
        "sns.set()\n",
        "\n",
        "# Untuk pemodelan\n",
        "import tensorflow as tf\n",
        "from tensorflow import keras\n",
        "from tensorflow.keras import layers\n",
        "\n",
        "# Untuk menghilangkan warnings saat plotting seaborn\n",
        "import warnings\n",
        "warnings.filterwarnings('ignore')\n",
        "\n",
        "# Untuk mengupload file\n",
        "import os"
      ],
      "metadata": {
        "id": "8lbW_rgfQKSC"
      },
      "execution_count": null,
      "outputs": []
    },
    {
      "cell_type": "code",
      "source": [
        "rating = pd.read_csv('tourism_rating.csv')\n",
        "place = pd.read_csv('tourism_with_id.csv')\n",
        "user = pd.read_csv('user.csv')"
      ],
      "metadata": {
        "id": "kKu_SzjzQTOz"
      },
      "execution_count": null,
      "outputs": []
    },
    {
      "cell_type": "code",
      "source": [
        "rating.head(2)"
      ],
      "metadata": {
        "colab": {
          "base_uri": "https://localhost:8080/",
          "height": 112
        },
        "id": "i40tla67S1aF",
        "outputId": "f4890c5a-843b-463d-d8bf-8e8891ac0305"
      },
      "execution_count": null,
      "outputs": [
        {
          "output_type": "execute_result",
          "data": {
            "text/plain": [
              "   User_Id  Place_Id  Place_Ratings\n",
              "0        1       179              3\n",
              "1        1       344              2"
            ],
            "text/html": [
              "\n",
              "  <div id=\"df-f29bbb82-3bd2-47dc-8193-0ff6ea6e4d14\">\n",
              "    <div class=\"colab-df-container\">\n",
              "      <div>\n",
              "<style scoped>\n",
              "    .dataframe tbody tr th:only-of-type {\n",
              "        vertical-align: middle;\n",
              "    }\n",
              "\n",
              "    .dataframe tbody tr th {\n",
              "        vertical-align: top;\n",
              "    }\n",
              "\n",
              "    .dataframe thead th {\n",
              "        text-align: right;\n",
              "    }\n",
              "</style>\n",
              "<table border=\"1\" class=\"dataframe\">\n",
              "  <thead>\n",
              "    <tr style=\"text-align: right;\">\n",
              "      <th></th>\n",
              "      <th>User_Id</th>\n",
              "      <th>Place_Id</th>\n",
              "      <th>Place_Ratings</th>\n",
              "    </tr>\n",
              "  </thead>\n",
              "  <tbody>\n",
              "    <tr>\n",
              "      <th>0</th>\n",
              "      <td>1</td>\n",
              "      <td>179</td>\n",
              "      <td>3</td>\n",
              "    </tr>\n",
              "    <tr>\n",
              "      <th>1</th>\n",
              "      <td>1</td>\n",
              "      <td>344</td>\n",
              "      <td>2</td>\n",
              "    </tr>\n",
              "  </tbody>\n",
              "</table>\n",
              "</div>\n",
              "      <button class=\"colab-df-convert\" onclick=\"convertToInteractive('df-f29bbb82-3bd2-47dc-8193-0ff6ea6e4d14')\"\n",
              "              title=\"Convert this dataframe to an interactive table.\"\n",
              "              style=\"display:none;\">\n",
              "        \n",
              "  <svg xmlns=\"http://www.w3.org/2000/svg\" height=\"24px\"viewBox=\"0 0 24 24\"\n",
              "       width=\"24px\">\n",
              "    <path d=\"M0 0h24v24H0V0z\" fill=\"none\"/>\n",
              "    <path d=\"M18.56 5.44l.94 2.06.94-2.06 2.06-.94-2.06-.94-.94-2.06-.94 2.06-2.06.94zm-11 1L8.5 8.5l.94-2.06 2.06-.94-2.06-.94L8.5 2.5l-.94 2.06-2.06.94zm10 10l.94 2.06.94-2.06 2.06-.94-2.06-.94-.94-2.06-.94 2.06-2.06.94z\"/><path d=\"M17.41 7.96l-1.37-1.37c-.4-.4-.92-.59-1.43-.59-.52 0-1.04.2-1.43.59L10.3 9.45l-7.72 7.72c-.78.78-.78 2.05 0 2.83L4 21.41c.39.39.9.59 1.41.59.51 0 1.02-.2 1.41-.59l7.78-7.78 2.81-2.81c.8-.78.8-2.07 0-2.86zM5.41 20L4 18.59l7.72-7.72 1.47 1.35L5.41 20z\"/>\n",
              "  </svg>\n",
              "      </button>\n",
              "      \n",
              "  <style>\n",
              "    .colab-df-container {\n",
              "      display:flex;\n",
              "      flex-wrap:wrap;\n",
              "      gap: 12px;\n",
              "    }\n",
              "\n",
              "    .colab-df-convert {\n",
              "      background-color: #E8F0FE;\n",
              "      border: none;\n",
              "      border-radius: 50%;\n",
              "      cursor: pointer;\n",
              "      display: none;\n",
              "      fill: #1967D2;\n",
              "      height: 32px;\n",
              "      padding: 0 0 0 0;\n",
              "      width: 32px;\n",
              "    }\n",
              "\n",
              "    .colab-df-convert:hover {\n",
              "      background-color: #E2EBFA;\n",
              "      box-shadow: 0px 1px 2px rgba(60, 64, 67, 0.3), 0px 1px 3px 1px rgba(60, 64, 67, 0.15);\n",
              "      fill: #174EA6;\n",
              "    }\n",
              "\n",
              "    [theme=dark] .colab-df-convert {\n",
              "      background-color: #3B4455;\n",
              "      fill: #D2E3FC;\n",
              "    }\n",
              "\n",
              "    [theme=dark] .colab-df-convert:hover {\n",
              "      background-color: #434B5C;\n",
              "      box-shadow: 0px 1px 3px 1px rgba(0, 0, 0, 0.15);\n",
              "      filter: drop-shadow(0px 1px 2px rgba(0, 0, 0, 0.3));\n",
              "      fill: #FFFFFF;\n",
              "    }\n",
              "  </style>\n",
              "\n",
              "      <script>\n",
              "        const buttonEl =\n",
              "          document.querySelector('#df-f29bbb82-3bd2-47dc-8193-0ff6ea6e4d14 button.colab-df-convert');\n",
              "        buttonEl.style.display =\n",
              "          google.colab.kernel.accessAllowed ? 'block' : 'none';\n",
              "\n",
              "        async function convertToInteractive(key) {\n",
              "          const element = document.querySelector('#df-f29bbb82-3bd2-47dc-8193-0ff6ea6e4d14');\n",
              "          const dataTable =\n",
              "            await google.colab.kernel.invokeFunction('convertToInteractive',\n",
              "                                                     [key], {});\n",
              "          if (!dataTable) return;\n",
              "\n",
              "          const docLinkHtml = 'Like what you see? Visit the ' +\n",
              "            '<a target=\"_blank\" href=https://colab.research.google.com/notebooks/data_table.ipynb>data table notebook</a>'\n",
              "            + ' to learn more about interactive tables.';\n",
              "          element.innerHTML = '';\n",
              "          dataTable['output_type'] = 'display_data';\n",
              "          await google.colab.output.renderOutput(dataTable, element);\n",
              "          const docLink = document.createElement('div');\n",
              "          docLink.innerHTML = docLinkHtml;\n",
              "          element.appendChild(docLink);\n",
              "        }\n",
              "      </script>\n",
              "    </div>\n",
              "  </div>\n",
              "  "
            ]
          },
          "metadata": {},
          "execution_count": 46
        }
      ]
    },
    {
      "cell_type": "code",
      "source": [
        "place.head(2)"
      ],
      "metadata": {
        "colab": {
          "base_uri": "https://localhost:8080/",
          "height": 332
        },
        "id": "PDAUTto9TIWb",
        "outputId": "b065c469-2a43-4f53-9409-393fc291a7e2"
      },
      "execution_count": null,
      "outputs": [
        {
          "output_type": "execute_result",
          "data": {
            "text/plain": [
              "   Place_Id        Place_Name  \\\n",
              "0         1  Monumen Nasional   \n",
              "1         2          Kota Tua   \n",
              "\n",
              "                                         Description Category     City  Price  \\\n",
              "0  Monumen Nasional atau yang populer disingkat d...   Budaya  Jakarta  20000   \n",
              "1  Kota tua di Jakarta, yang juga bernama Kota Tu...   Budaya  Jakarta      0   \n",
              "\n",
              "   Rating  Time_Minutes                                       Coordinate  \\\n",
              "0     4.6          15.0          {'lat': -6.1753924, 'lng': 106.8271528}   \n",
              "1     4.6          90.0  {'lat': -6.137644799999999, 'lng': 106.8171245}   \n",
              "\n",
              "        Lat        Long  Unnamed: 11  Unnamed: 12  \n",
              "0 -6.175392  106.827153          NaN            1  \n",
              "1 -6.137645  106.817125          NaN            2  "
            ],
            "text/html": [
              "\n",
              "  <div id=\"df-bec5d907-ed1e-445e-ad57-1d367a5cd623\">\n",
              "    <div class=\"colab-df-container\">\n",
              "      <div>\n",
              "<style scoped>\n",
              "    .dataframe tbody tr th:only-of-type {\n",
              "        vertical-align: middle;\n",
              "    }\n",
              "\n",
              "    .dataframe tbody tr th {\n",
              "        vertical-align: top;\n",
              "    }\n",
              "\n",
              "    .dataframe thead th {\n",
              "        text-align: right;\n",
              "    }\n",
              "</style>\n",
              "<table border=\"1\" class=\"dataframe\">\n",
              "  <thead>\n",
              "    <tr style=\"text-align: right;\">\n",
              "      <th></th>\n",
              "      <th>Place_Id</th>\n",
              "      <th>Place_Name</th>\n",
              "      <th>Description</th>\n",
              "      <th>Category</th>\n",
              "      <th>City</th>\n",
              "      <th>Price</th>\n",
              "      <th>Rating</th>\n",
              "      <th>Time_Minutes</th>\n",
              "      <th>Coordinate</th>\n",
              "      <th>Lat</th>\n",
              "      <th>Long</th>\n",
              "      <th>Unnamed: 11</th>\n",
              "      <th>Unnamed: 12</th>\n",
              "    </tr>\n",
              "  </thead>\n",
              "  <tbody>\n",
              "    <tr>\n",
              "      <th>0</th>\n",
              "      <td>1</td>\n",
              "      <td>Monumen Nasional</td>\n",
              "      <td>Monumen Nasional atau yang populer disingkat d...</td>\n",
              "      <td>Budaya</td>\n",
              "      <td>Jakarta</td>\n",
              "      <td>20000</td>\n",
              "      <td>4.6</td>\n",
              "      <td>15.0</td>\n",
              "      <td>{'lat': -6.1753924, 'lng': 106.8271528}</td>\n",
              "      <td>-6.175392</td>\n",
              "      <td>106.827153</td>\n",
              "      <td>NaN</td>\n",
              "      <td>1</td>\n",
              "    </tr>\n",
              "    <tr>\n",
              "      <th>1</th>\n",
              "      <td>2</td>\n",
              "      <td>Kota Tua</td>\n",
              "      <td>Kota tua di Jakarta, yang juga bernama Kota Tu...</td>\n",
              "      <td>Budaya</td>\n",
              "      <td>Jakarta</td>\n",
              "      <td>0</td>\n",
              "      <td>4.6</td>\n",
              "      <td>90.0</td>\n",
              "      <td>{'lat': -6.137644799999999, 'lng': 106.8171245}</td>\n",
              "      <td>-6.137645</td>\n",
              "      <td>106.817125</td>\n",
              "      <td>NaN</td>\n",
              "      <td>2</td>\n",
              "    </tr>\n",
              "  </tbody>\n",
              "</table>\n",
              "</div>\n",
              "      <button class=\"colab-df-convert\" onclick=\"convertToInteractive('df-bec5d907-ed1e-445e-ad57-1d367a5cd623')\"\n",
              "              title=\"Convert this dataframe to an interactive table.\"\n",
              "              style=\"display:none;\">\n",
              "        \n",
              "  <svg xmlns=\"http://www.w3.org/2000/svg\" height=\"24px\"viewBox=\"0 0 24 24\"\n",
              "       width=\"24px\">\n",
              "    <path d=\"M0 0h24v24H0V0z\" fill=\"none\"/>\n",
              "    <path d=\"M18.56 5.44l.94 2.06.94-2.06 2.06-.94-2.06-.94-.94-2.06-.94 2.06-2.06.94zm-11 1L8.5 8.5l.94-2.06 2.06-.94-2.06-.94L8.5 2.5l-.94 2.06-2.06.94zm10 10l.94 2.06.94-2.06 2.06-.94-2.06-.94-.94-2.06-.94 2.06-2.06.94z\"/><path d=\"M17.41 7.96l-1.37-1.37c-.4-.4-.92-.59-1.43-.59-.52 0-1.04.2-1.43.59L10.3 9.45l-7.72 7.72c-.78.78-.78 2.05 0 2.83L4 21.41c.39.39.9.59 1.41.59.51 0 1.02-.2 1.41-.59l7.78-7.78 2.81-2.81c.8-.78.8-2.07 0-2.86zM5.41 20L4 18.59l7.72-7.72 1.47 1.35L5.41 20z\"/>\n",
              "  </svg>\n",
              "      </button>\n",
              "      \n",
              "  <style>\n",
              "    .colab-df-container {\n",
              "      display:flex;\n",
              "      flex-wrap:wrap;\n",
              "      gap: 12px;\n",
              "    }\n",
              "\n",
              "    .colab-df-convert {\n",
              "      background-color: #E8F0FE;\n",
              "      border: none;\n",
              "      border-radius: 50%;\n",
              "      cursor: pointer;\n",
              "      display: none;\n",
              "      fill: #1967D2;\n",
              "      height: 32px;\n",
              "      padding: 0 0 0 0;\n",
              "      width: 32px;\n",
              "    }\n",
              "\n",
              "    .colab-df-convert:hover {\n",
              "      background-color: #E2EBFA;\n",
              "      box-shadow: 0px 1px 2px rgba(60, 64, 67, 0.3), 0px 1px 3px 1px rgba(60, 64, 67, 0.15);\n",
              "      fill: #174EA6;\n",
              "    }\n",
              "\n",
              "    [theme=dark] .colab-df-convert {\n",
              "      background-color: #3B4455;\n",
              "      fill: #D2E3FC;\n",
              "    }\n",
              "\n",
              "    [theme=dark] .colab-df-convert:hover {\n",
              "      background-color: #434B5C;\n",
              "      box-shadow: 0px 1px 3px 1px rgba(0, 0, 0, 0.15);\n",
              "      filter: drop-shadow(0px 1px 2px rgba(0, 0, 0, 0.3));\n",
              "      fill: #FFFFFF;\n",
              "    }\n",
              "  </style>\n",
              "\n",
              "      <script>\n",
              "        const buttonEl =\n",
              "          document.querySelector('#df-bec5d907-ed1e-445e-ad57-1d367a5cd623 button.colab-df-convert');\n",
              "        buttonEl.style.display =\n",
              "          google.colab.kernel.accessAllowed ? 'block' : 'none';\n",
              "\n",
              "        async function convertToInteractive(key) {\n",
              "          const element = document.querySelector('#df-bec5d907-ed1e-445e-ad57-1d367a5cd623');\n",
              "          const dataTable =\n",
              "            await google.colab.kernel.invokeFunction('convertToInteractive',\n",
              "                                                     [key], {});\n",
              "          if (!dataTable) return;\n",
              "\n",
              "          const docLinkHtml = 'Like what you see? Visit the ' +\n",
              "            '<a target=\"_blank\" href=https://colab.research.google.com/notebooks/data_table.ipynb>data table notebook</a>'\n",
              "            + ' to learn more about interactive tables.';\n",
              "          element.innerHTML = '';\n",
              "          dataTable['output_type'] = 'display_data';\n",
              "          await google.colab.output.renderOutput(dataTable, element);\n",
              "          const docLink = document.createElement('div');\n",
              "          docLink.innerHTML = docLinkHtml;\n",
              "          element.appendChild(docLink);\n",
              "        }\n",
              "      </script>\n",
              "    </div>\n",
              "  </div>\n",
              "  "
            ]
          },
          "metadata": {},
          "execution_count": 47
        }
      ]
    },
    {
      "cell_type": "code",
      "source": [
        "user.head(2)"
      ],
      "metadata": {
        "colab": {
          "base_uri": "https://localhost:8080/",
          "height": 112
        },
        "id": "OKMDUjn3TTcR",
        "outputId": "c4b6ae62-e040-4668-941f-1b0024291330"
      },
      "execution_count": null,
      "outputs": [
        {
          "output_type": "execute_result",
          "data": {
            "text/plain": [
              "   User_Id               Location  Age\n",
              "0        1  Semarang, Jawa Tengah   20\n",
              "1        2     Bekasi, Jawa Barat   21"
            ],
            "text/html": [
              "\n",
              "  <div id=\"df-1e34bb2f-543a-486c-b30f-bf7f3431660e\">\n",
              "    <div class=\"colab-df-container\">\n",
              "      <div>\n",
              "<style scoped>\n",
              "    .dataframe tbody tr th:only-of-type {\n",
              "        vertical-align: middle;\n",
              "    }\n",
              "\n",
              "    .dataframe tbody tr th {\n",
              "        vertical-align: top;\n",
              "    }\n",
              "\n",
              "    .dataframe thead th {\n",
              "        text-align: right;\n",
              "    }\n",
              "</style>\n",
              "<table border=\"1\" class=\"dataframe\">\n",
              "  <thead>\n",
              "    <tr style=\"text-align: right;\">\n",
              "      <th></th>\n",
              "      <th>User_Id</th>\n",
              "      <th>Location</th>\n",
              "      <th>Age</th>\n",
              "    </tr>\n",
              "  </thead>\n",
              "  <tbody>\n",
              "    <tr>\n",
              "      <th>0</th>\n",
              "      <td>1</td>\n",
              "      <td>Semarang, Jawa Tengah</td>\n",
              "      <td>20</td>\n",
              "    </tr>\n",
              "    <tr>\n",
              "      <th>1</th>\n",
              "      <td>2</td>\n",
              "      <td>Bekasi, Jawa Barat</td>\n",
              "      <td>21</td>\n",
              "    </tr>\n",
              "  </tbody>\n",
              "</table>\n",
              "</div>\n",
              "      <button class=\"colab-df-convert\" onclick=\"convertToInteractive('df-1e34bb2f-543a-486c-b30f-bf7f3431660e')\"\n",
              "              title=\"Convert this dataframe to an interactive table.\"\n",
              "              style=\"display:none;\">\n",
              "        \n",
              "  <svg xmlns=\"http://www.w3.org/2000/svg\" height=\"24px\"viewBox=\"0 0 24 24\"\n",
              "       width=\"24px\">\n",
              "    <path d=\"M0 0h24v24H0V0z\" fill=\"none\"/>\n",
              "    <path d=\"M18.56 5.44l.94 2.06.94-2.06 2.06-.94-2.06-.94-.94-2.06-.94 2.06-2.06.94zm-11 1L8.5 8.5l.94-2.06 2.06-.94-2.06-.94L8.5 2.5l-.94 2.06-2.06.94zm10 10l.94 2.06.94-2.06 2.06-.94-2.06-.94-.94-2.06-.94 2.06-2.06.94z\"/><path d=\"M17.41 7.96l-1.37-1.37c-.4-.4-.92-.59-1.43-.59-.52 0-1.04.2-1.43.59L10.3 9.45l-7.72 7.72c-.78.78-.78 2.05 0 2.83L4 21.41c.39.39.9.59 1.41.59.51 0 1.02-.2 1.41-.59l7.78-7.78 2.81-2.81c.8-.78.8-2.07 0-2.86zM5.41 20L4 18.59l7.72-7.72 1.47 1.35L5.41 20z\"/>\n",
              "  </svg>\n",
              "      </button>\n",
              "      \n",
              "  <style>\n",
              "    .colab-df-container {\n",
              "      display:flex;\n",
              "      flex-wrap:wrap;\n",
              "      gap: 12px;\n",
              "    }\n",
              "\n",
              "    .colab-df-convert {\n",
              "      background-color: #E8F0FE;\n",
              "      border: none;\n",
              "      border-radius: 50%;\n",
              "      cursor: pointer;\n",
              "      display: none;\n",
              "      fill: #1967D2;\n",
              "      height: 32px;\n",
              "      padding: 0 0 0 0;\n",
              "      width: 32px;\n",
              "    }\n",
              "\n",
              "    .colab-df-convert:hover {\n",
              "      background-color: #E2EBFA;\n",
              "      box-shadow: 0px 1px 2px rgba(60, 64, 67, 0.3), 0px 1px 3px 1px rgba(60, 64, 67, 0.15);\n",
              "      fill: #174EA6;\n",
              "    }\n",
              "\n",
              "    [theme=dark] .colab-df-convert {\n",
              "      background-color: #3B4455;\n",
              "      fill: #D2E3FC;\n",
              "    }\n",
              "\n",
              "    [theme=dark] .colab-df-convert:hover {\n",
              "      background-color: #434B5C;\n",
              "      box-shadow: 0px 1px 3px 1px rgba(0, 0, 0, 0.15);\n",
              "      filter: drop-shadow(0px 1px 2px rgba(0, 0, 0, 0.3));\n",
              "      fill: #FFFFFF;\n",
              "    }\n",
              "  </style>\n",
              "\n",
              "      <script>\n",
              "        const buttonEl =\n",
              "          document.querySelector('#df-1e34bb2f-543a-486c-b30f-bf7f3431660e button.colab-df-convert');\n",
              "        buttonEl.style.display =\n",
              "          google.colab.kernel.accessAllowed ? 'block' : 'none';\n",
              "\n",
              "        async function convertToInteractive(key) {\n",
              "          const element = document.querySelector('#df-1e34bb2f-543a-486c-b30f-bf7f3431660e');\n",
              "          const dataTable =\n",
              "            await google.colab.kernel.invokeFunction('convertToInteractive',\n",
              "                                                     [key], {});\n",
              "          if (!dataTable) return;\n",
              "\n",
              "          const docLinkHtml = 'Like what you see? Visit the ' +\n",
              "            '<a target=\"_blank\" href=https://colab.research.google.com/notebooks/data_table.ipynb>data table notebook</a>'\n",
              "            + ' to learn more about interactive tables.';\n",
              "          element.innerHTML = '';\n",
              "          dataTable['output_type'] = 'display_data';\n",
              "          await google.colab.output.renderOutput(dataTable, element);\n",
              "          const docLink = document.createElement('div');\n",
              "          docLink.innerHTML = docLinkHtml;\n",
              "          element.appendChild(docLink);\n",
              "        }\n",
              "      </script>\n",
              "    </div>\n",
              "  </div>\n",
              "  "
            ]
          },
          "metadata": {},
          "execution_count": 48
        }
      ]
    },
    {
      "cell_type": "code",
      "source": [
        "rating.isna().sum()"
      ],
      "metadata": {
        "id": "yq8ut3x3Ti2m",
        "colab": {
          "base_uri": "https://localhost:8080/"
        },
        "outputId": "ba042643-32d4-4d9f-a524-9fac4b2384f9"
      },
      "execution_count": null,
      "outputs": [
        {
          "output_type": "execute_result",
          "data": {
            "text/plain": [
              "User_Id          0\n",
              "Place_Id         0\n",
              "Place_Ratings    0\n",
              "dtype: int64"
            ]
          },
          "metadata": {},
          "execution_count": 50
        }
      ]
    },
    {
      "cell_type": "code",
      "source": [
        "place.isna().sum()"
      ],
      "metadata": {
        "colab": {
          "base_uri": "https://localhost:8080/"
        },
        "id": "iZkZD_DBzFl3",
        "outputId": "a2062670-01d7-4d4f-a7ae-e6a9b5b44e14"
      },
      "execution_count": null,
      "outputs": [
        {
          "output_type": "execute_result",
          "data": {
            "text/plain": [
              "Place_Id          0\n",
              "Place_Name        0\n",
              "Description       0\n",
              "Category          0\n",
              "City              0\n",
              "Price             0\n",
              "Rating            0\n",
              "Time_Minutes    232\n",
              "Coordinate        0\n",
              "Lat               0\n",
              "Long              0\n",
              "dtype: int64"
            ]
          },
          "metadata": {},
          "execution_count": 51
        }
      ]
    },
    {
      "cell_type": "code",
      "source": [
        "user.isna().sum()"
      ],
      "metadata": {
        "colab": {
          "base_uri": "https://localhost:8080/"
        },
        "id": "_7KrVoxlzPIi",
        "outputId": "d2ca2b87-66a2-4121-8886-54f1284075af"
      },
      "execution_count": null,
      "outputs": [
        {
          "output_type": "execute_result",
          "data": {
            "text/plain": [
              "User_Id     0\n",
              "Location    0\n",
              "Age         0\n",
              "dtype: int64"
            ]
          },
          "metadata": {},
          "execution_count": 52
        }
      ]
    },
    {
      "cell_type": "code",
      "source": [
        "place = place[place['City']=='Surabaya']\n",
        "place.head(2)"
      ],
      "metadata": {
        "colab": {
          "base_uri": "https://localhost:8080/",
          "height": 260
        },
        "id": "ZGmdYmgMMXKm",
        "outputId": "43e99a8e-a914-489a-9ebd-d0ce1152ce6e"
      },
      "execution_count": null,
      "outputs": [
        {
          "output_type": "execute_result",
          "data": {
            "text/plain": [
              "     Place_Id                   Place_Name  \\\n",
              "391       392  Ekowisata Mangrove Wonorejo   \n",
              "392       393        Taman Harmoni Keputih   \n",
              "\n",
              "                                           Description    Category      City  \\\n",
              "391  Hutan Wisata Mangrove Surabaya merupakan wisat...  Cagar Alam  Surabaya   \n",
              "392  Tempat tersebut ialah Taman Hatmoni Keputih Su...  Cagar Alam  Surabaya   \n",
              "\n",
              "     Price  Rating  Time_Minutes  \\\n",
              "391      0     4.3          60.0   \n",
              "392      0     4.4          60.0   \n",
              "\n",
              "                                          Coordinate       Lat        Long  \n",
              "391  {'lat': -7.308648199999999, 'lng': 112.8216622} -7.308648  112.821662  \n",
              "392          {'lat': -7.2952211, 'lng': 112.8035603} -7.295221  112.803560  "
            ],
            "text/html": [
              "\n",
              "  <div id=\"df-913d735f-b51d-4099-8538-a0e96607a707\">\n",
              "    <div class=\"colab-df-container\">\n",
              "      <div>\n",
              "<style scoped>\n",
              "    .dataframe tbody tr th:only-of-type {\n",
              "        vertical-align: middle;\n",
              "    }\n",
              "\n",
              "    .dataframe tbody tr th {\n",
              "        vertical-align: top;\n",
              "    }\n",
              "\n",
              "    .dataframe thead th {\n",
              "        text-align: right;\n",
              "    }\n",
              "</style>\n",
              "<table border=\"1\" class=\"dataframe\">\n",
              "  <thead>\n",
              "    <tr style=\"text-align: right;\">\n",
              "      <th></th>\n",
              "      <th>Place_Id</th>\n",
              "      <th>Place_Name</th>\n",
              "      <th>Description</th>\n",
              "      <th>Category</th>\n",
              "      <th>City</th>\n",
              "      <th>Price</th>\n",
              "      <th>Rating</th>\n",
              "      <th>Time_Minutes</th>\n",
              "      <th>Coordinate</th>\n",
              "      <th>Lat</th>\n",
              "      <th>Long</th>\n",
              "    </tr>\n",
              "  </thead>\n",
              "  <tbody>\n",
              "    <tr>\n",
              "      <th>391</th>\n",
              "      <td>392</td>\n",
              "      <td>Ekowisata Mangrove Wonorejo</td>\n",
              "      <td>Hutan Wisata Mangrove Surabaya merupakan wisat...</td>\n",
              "      <td>Cagar Alam</td>\n",
              "      <td>Surabaya</td>\n",
              "      <td>0</td>\n",
              "      <td>4.3</td>\n",
              "      <td>60.0</td>\n",
              "      <td>{'lat': -7.308648199999999, 'lng': 112.8216622}</td>\n",
              "      <td>-7.308648</td>\n",
              "      <td>112.821662</td>\n",
              "    </tr>\n",
              "    <tr>\n",
              "      <th>392</th>\n",
              "      <td>393</td>\n",
              "      <td>Taman Harmoni Keputih</td>\n",
              "      <td>Tempat tersebut ialah Taman Hatmoni Keputih Su...</td>\n",
              "      <td>Cagar Alam</td>\n",
              "      <td>Surabaya</td>\n",
              "      <td>0</td>\n",
              "      <td>4.4</td>\n",
              "      <td>60.0</td>\n",
              "      <td>{'lat': -7.2952211, 'lng': 112.8035603}</td>\n",
              "      <td>-7.295221</td>\n",
              "      <td>112.803560</td>\n",
              "    </tr>\n",
              "  </tbody>\n",
              "</table>\n",
              "</div>\n",
              "      <button class=\"colab-df-convert\" onclick=\"convertToInteractive('df-913d735f-b51d-4099-8538-a0e96607a707')\"\n",
              "              title=\"Convert this dataframe to an interactive table.\"\n",
              "              style=\"display:none;\">\n",
              "        \n",
              "  <svg xmlns=\"http://www.w3.org/2000/svg\" height=\"24px\"viewBox=\"0 0 24 24\"\n",
              "       width=\"24px\">\n",
              "    <path d=\"M0 0h24v24H0V0z\" fill=\"none\"/>\n",
              "    <path d=\"M18.56 5.44l.94 2.06.94-2.06 2.06-.94-2.06-.94-.94-2.06-.94 2.06-2.06.94zm-11 1L8.5 8.5l.94-2.06 2.06-.94-2.06-.94L8.5 2.5l-.94 2.06-2.06.94zm10 10l.94 2.06.94-2.06 2.06-.94-2.06-.94-.94-2.06-.94 2.06-2.06.94z\"/><path d=\"M17.41 7.96l-1.37-1.37c-.4-.4-.92-.59-1.43-.59-.52 0-1.04.2-1.43.59L10.3 9.45l-7.72 7.72c-.78.78-.78 2.05 0 2.83L4 21.41c.39.39.9.59 1.41.59.51 0 1.02-.2 1.41-.59l7.78-7.78 2.81-2.81c.8-.78.8-2.07 0-2.86zM5.41 20L4 18.59l7.72-7.72 1.47 1.35L5.41 20z\"/>\n",
              "  </svg>\n",
              "      </button>\n",
              "      \n",
              "  <style>\n",
              "    .colab-df-container {\n",
              "      display:flex;\n",
              "      flex-wrap:wrap;\n",
              "      gap: 12px;\n",
              "    }\n",
              "\n",
              "    .colab-df-convert {\n",
              "      background-color: #E8F0FE;\n",
              "      border: none;\n",
              "      border-radius: 50%;\n",
              "      cursor: pointer;\n",
              "      display: none;\n",
              "      fill: #1967D2;\n",
              "      height: 32px;\n",
              "      padding: 0 0 0 0;\n",
              "      width: 32px;\n",
              "    }\n",
              "\n",
              "    .colab-df-convert:hover {\n",
              "      background-color: #E2EBFA;\n",
              "      box-shadow: 0px 1px 2px rgba(60, 64, 67, 0.3), 0px 1px 3px 1px rgba(60, 64, 67, 0.15);\n",
              "      fill: #174EA6;\n",
              "    }\n",
              "\n",
              "    [theme=dark] .colab-df-convert {\n",
              "      background-color: #3B4455;\n",
              "      fill: #D2E3FC;\n",
              "    }\n",
              "\n",
              "    [theme=dark] .colab-df-convert:hover {\n",
              "      background-color: #434B5C;\n",
              "      box-shadow: 0px 1px 3px 1px rgba(0, 0, 0, 0.15);\n",
              "      filter: drop-shadow(0px 1px 2px rgba(0, 0, 0, 0.3));\n",
              "      fill: #FFFFFF;\n",
              "    }\n",
              "  </style>\n",
              "\n",
              "      <script>\n",
              "        const buttonEl =\n",
              "          document.querySelector('#df-913d735f-b51d-4099-8538-a0e96607a707 button.colab-df-convert');\n",
              "        buttonEl.style.display =\n",
              "          google.colab.kernel.accessAllowed ? 'block' : 'none';\n",
              "\n",
              "        async function convertToInteractive(key) {\n",
              "          const element = document.querySelector('#df-913d735f-b51d-4099-8538-a0e96607a707');\n",
              "          const dataTable =\n",
              "            await google.colab.kernel.invokeFunction('convertToInteractive',\n",
              "                                                     [key], {});\n",
              "          if (!dataTable) return;\n",
              "\n",
              "          const docLinkHtml = 'Like what you see? Visit the ' +\n",
              "            '<a target=\"_blank\" href=https://colab.research.google.com/notebooks/data_table.ipynb>data table notebook</a>'\n",
              "            + ' to learn more about interactive tables.';\n",
              "          element.innerHTML = '';\n",
              "          dataTable['output_type'] = 'display_data';\n",
              "          await google.colab.output.renderOutput(dataTable, element);\n",
              "          const docLink = document.createElement('div');\n",
              "          docLink.innerHTML = docLinkHtml;\n",
              "          element.appendChild(docLink);\n",
              "        }\n",
              "      </script>\n",
              "    </div>\n",
              "  </div>\n",
              "  "
            ]
          },
          "metadata": {},
          "execution_count": 55
        }
      ]
    },
    {
      "cell_type": "code",
      "source": [
        "place.info()"
      ],
      "metadata": {
        "colab": {
          "base_uri": "https://localhost:8080/"
        },
        "id": "Lo_atUE0MsPt",
        "outputId": "d6cad1de-feea-42f7-d830-e39931b9b15f"
      },
      "execution_count": null,
      "outputs": [
        {
          "output_type": "stream",
          "name": "stdout",
          "text": [
            "<class 'pandas.core.frame.DataFrame'>\n",
            "Int64Index: 46 entries, 391 to 436\n",
            "Data columns (total 11 columns):\n",
            " #   Column        Non-Null Count  Dtype  \n",
            "---  ------        --------------  -----  \n",
            " 0   Place_Id      46 non-null     int64  \n",
            " 1   Place_Name    46 non-null     object \n",
            " 2   Description   46 non-null     object \n",
            " 3   Category      46 non-null     object \n",
            " 4   City          46 non-null     object \n",
            " 5   Price         46 non-null     int64  \n",
            " 6   Rating        46 non-null     float64\n",
            " 7   Time_Minutes  30 non-null     float64\n",
            " 8   Coordinate    46 non-null     object \n",
            " 9   Lat           46 non-null     float64\n",
            " 10  Long          46 non-null     float64\n",
            "dtypes: float64(4), int64(2), object(5)\n",
            "memory usage: 4.3+ KB\n"
          ]
        }
      ]
    },
    {
      "cell_type": "code",
      "source": [
        "place = place.drop('Time_Minutes', axis=1)"
      ],
      "metadata": {
        "id": "Ku2berbUOIru"
      },
      "execution_count": null,
      "outputs": []
    },
    {
      "cell_type": "code",
      "source": [
        "rating = pd.merge(rating, place[['Place_Id']], how='right', on='Place_Id')\n",
        "rating.head()"
      ],
      "metadata": {
        "colab": {
          "base_uri": "https://localhost:8080/",
          "height": 206
        },
        "id": "shaAHhwhOULZ",
        "outputId": "ee85a29e-f5fc-4cbf-e4fa-1b3f43427af8"
      },
      "execution_count": null,
      "outputs": [
        {
          "output_type": "execute_result",
          "data": {
            "text/plain": [
              "   User_Id  Place_Id  Place_Ratings\n",
              "0       25       392              4\n",
              "1       44       392              3\n",
              "2      108       392              5\n",
              "3      119       392              3\n",
              "4      125       392              5"
            ],
            "text/html": [
              "\n",
              "  <div id=\"df-4b157573-70fa-4a34-b821-d0ba6e0b7dbe\">\n",
              "    <div class=\"colab-df-container\">\n",
              "      <div>\n",
              "<style scoped>\n",
              "    .dataframe tbody tr th:only-of-type {\n",
              "        vertical-align: middle;\n",
              "    }\n",
              "\n",
              "    .dataframe tbody tr th {\n",
              "        vertical-align: top;\n",
              "    }\n",
              "\n",
              "    .dataframe thead th {\n",
              "        text-align: right;\n",
              "    }\n",
              "</style>\n",
              "<table border=\"1\" class=\"dataframe\">\n",
              "  <thead>\n",
              "    <tr style=\"text-align: right;\">\n",
              "      <th></th>\n",
              "      <th>User_Id</th>\n",
              "      <th>Place_Id</th>\n",
              "      <th>Place_Ratings</th>\n",
              "    </tr>\n",
              "  </thead>\n",
              "  <tbody>\n",
              "    <tr>\n",
              "      <th>0</th>\n",
              "      <td>25</td>\n",
              "      <td>392</td>\n",
              "      <td>4</td>\n",
              "    </tr>\n",
              "    <tr>\n",
              "      <th>1</th>\n",
              "      <td>44</td>\n",
              "      <td>392</td>\n",
              "      <td>3</td>\n",
              "    </tr>\n",
              "    <tr>\n",
              "      <th>2</th>\n",
              "      <td>108</td>\n",
              "      <td>392</td>\n",
              "      <td>5</td>\n",
              "    </tr>\n",
              "    <tr>\n",
              "      <th>3</th>\n",
              "      <td>119</td>\n",
              "      <td>392</td>\n",
              "      <td>3</td>\n",
              "    </tr>\n",
              "    <tr>\n",
              "      <th>4</th>\n",
              "      <td>125</td>\n",
              "      <td>392</td>\n",
              "      <td>5</td>\n",
              "    </tr>\n",
              "  </tbody>\n",
              "</table>\n",
              "</div>\n",
              "      <button class=\"colab-df-convert\" onclick=\"convertToInteractive('df-4b157573-70fa-4a34-b821-d0ba6e0b7dbe')\"\n",
              "              title=\"Convert this dataframe to an interactive table.\"\n",
              "              style=\"display:none;\">\n",
              "        \n",
              "  <svg xmlns=\"http://www.w3.org/2000/svg\" height=\"24px\"viewBox=\"0 0 24 24\"\n",
              "       width=\"24px\">\n",
              "    <path d=\"M0 0h24v24H0V0z\" fill=\"none\"/>\n",
              "    <path d=\"M18.56 5.44l.94 2.06.94-2.06 2.06-.94-2.06-.94-.94-2.06-.94 2.06-2.06.94zm-11 1L8.5 8.5l.94-2.06 2.06-.94-2.06-.94L8.5 2.5l-.94 2.06-2.06.94zm10 10l.94 2.06.94-2.06 2.06-.94-2.06-.94-.94-2.06-.94 2.06-2.06.94z\"/><path d=\"M17.41 7.96l-1.37-1.37c-.4-.4-.92-.59-1.43-.59-.52 0-1.04.2-1.43.59L10.3 9.45l-7.72 7.72c-.78.78-.78 2.05 0 2.83L4 21.41c.39.39.9.59 1.41.59.51 0 1.02-.2 1.41-.59l7.78-7.78 2.81-2.81c.8-.78.8-2.07 0-2.86zM5.41 20L4 18.59l7.72-7.72 1.47 1.35L5.41 20z\"/>\n",
              "  </svg>\n",
              "      </button>\n",
              "      \n",
              "  <style>\n",
              "    .colab-df-container {\n",
              "      display:flex;\n",
              "      flex-wrap:wrap;\n",
              "      gap: 12px;\n",
              "    }\n",
              "\n",
              "    .colab-df-convert {\n",
              "      background-color: #E8F0FE;\n",
              "      border: none;\n",
              "      border-radius: 50%;\n",
              "      cursor: pointer;\n",
              "      display: none;\n",
              "      fill: #1967D2;\n",
              "      height: 32px;\n",
              "      padding: 0 0 0 0;\n",
              "      width: 32px;\n",
              "    }\n",
              "\n",
              "    .colab-df-convert:hover {\n",
              "      background-color: #E2EBFA;\n",
              "      box-shadow: 0px 1px 2px rgba(60, 64, 67, 0.3), 0px 1px 3px 1px rgba(60, 64, 67, 0.15);\n",
              "      fill: #174EA6;\n",
              "    }\n",
              "\n",
              "    [theme=dark] .colab-df-convert {\n",
              "      background-color: #3B4455;\n",
              "      fill: #D2E3FC;\n",
              "    }\n",
              "\n",
              "    [theme=dark] .colab-df-convert:hover {\n",
              "      background-color: #434B5C;\n",
              "      box-shadow: 0px 1px 3px 1px rgba(0, 0, 0, 0.15);\n",
              "      filter: drop-shadow(0px 1px 2px rgba(0, 0, 0, 0.3));\n",
              "      fill: #FFFFFF;\n",
              "    }\n",
              "  </style>\n",
              "\n",
              "      <script>\n",
              "        const buttonEl =\n",
              "          document.querySelector('#df-4b157573-70fa-4a34-b821-d0ba6e0b7dbe button.colab-df-convert');\n",
              "        buttonEl.style.display =\n",
              "          google.colab.kernel.accessAllowed ? 'block' : 'none';\n",
              "\n",
              "        async function convertToInteractive(key) {\n",
              "          const element = document.querySelector('#df-4b157573-70fa-4a34-b821-d0ba6e0b7dbe');\n",
              "          const dataTable =\n",
              "            await google.colab.kernel.invokeFunction('convertToInteractive',\n",
              "                                                     [key], {});\n",
              "          if (!dataTable) return;\n",
              "\n",
              "          const docLinkHtml = 'Like what you see? Visit the ' +\n",
              "            '<a target=\"_blank\" href=https://colab.research.google.com/notebooks/data_table.ipynb>data table notebook</a>'\n",
              "            + ' to learn more about interactive tables.';\n",
              "          element.innerHTML = '';\n",
              "          dataTable['output_type'] = 'display_data';\n",
              "          await google.colab.output.renderOutput(dataTable, element);\n",
              "          const docLink = document.createElement('div');\n",
              "          docLink.innerHTML = docLinkHtml;\n",
              "          element.appendChild(docLink);\n",
              "        }\n",
              "      </script>\n",
              "    </div>\n",
              "  </div>\n",
              "  "
            ]
          },
          "metadata": {},
          "execution_count": 58
        }
      ]
    },
    {
      "cell_type": "code",
      "source": [
        "rating.shape"
      ],
      "metadata": {
        "colab": {
          "base_uri": "https://localhost:8080/"
        },
        "id": "k8PZK3X3Oon9",
        "outputId": "e91e3c33-edb5-4711-d70c-1bafb6470da8"
      },
      "execution_count": null,
      "outputs": [
        {
          "output_type": "execute_result",
          "data": {
            "text/plain": [
              "(1050, 3)"
            ]
          },
          "metadata": {},
          "execution_count": 59
        }
      ]
    },
    {
      "cell_type": "code",
      "source": [
        "user = pd.merge(user, rating[['User_Id']], how='right', on='User_Id').drop_duplicates().sort_values('User_Id')\n",
        "user.head()"
      ],
      "metadata": {
        "colab": {
          "base_uri": "https://localhost:8080/",
          "height": 206
        },
        "id": "-72teSKmPPJP",
        "outputId": "073036cb-1f70-46da-a9f6-58562e310eb5"
      },
      "execution_count": null,
      "outputs": [
        {
          "output_type": "execute_result",
          "data": {
            "text/plain": [
              "     User_Id                   Location  Age\n",
              "16         1      Semarang, Jawa Tengah   20\n",
              "334        2         Bekasi, Jawa Barat   21\n",
              "641        3        Cirebon, Jawa Barat   23\n",
              "305        4         Bekasi, Jawa Barat   21\n",
              "50         5  Lampung, Sumatera Selatan   20"
            ],
            "text/html": [
              "\n",
              "  <div id=\"df-b06b9492-200a-424a-8055-55d76e97eb1a\">\n",
              "    <div class=\"colab-df-container\">\n",
              "      <div>\n",
              "<style scoped>\n",
              "    .dataframe tbody tr th:only-of-type {\n",
              "        vertical-align: middle;\n",
              "    }\n",
              "\n",
              "    .dataframe tbody tr th {\n",
              "        vertical-align: top;\n",
              "    }\n",
              "\n",
              "    .dataframe thead th {\n",
              "        text-align: right;\n",
              "    }\n",
              "</style>\n",
              "<table border=\"1\" class=\"dataframe\">\n",
              "  <thead>\n",
              "    <tr style=\"text-align: right;\">\n",
              "      <th></th>\n",
              "      <th>User_Id</th>\n",
              "      <th>Location</th>\n",
              "      <th>Age</th>\n",
              "    </tr>\n",
              "  </thead>\n",
              "  <tbody>\n",
              "    <tr>\n",
              "      <th>16</th>\n",
              "      <td>1</td>\n",
              "      <td>Semarang, Jawa Tengah</td>\n",
              "      <td>20</td>\n",
              "    </tr>\n",
              "    <tr>\n",
              "      <th>334</th>\n",
              "      <td>2</td>\n",
              "      <td>Bekasi, Jawa Barat</td>\n",
              "      <td>21</td>\n",
              "    </tr>\n",
              "    <tr>\n",
              "      <th>641</th>\n",
              "      <td>3</td>\n",
              "      <td>Cirebon, Jawa Barat</td>\n",
              "      <td>23</td>\n",
              "    </tr>\n",
              "    <tr>\n",
              "      <th>305</th>\n",
              "      <td>4</td>\n",
              "      <td>Bekasi, Jawa Barat</td>\n",
              "      <td>21</td>\n",
              "    </tr>\n",
              "    <tr>\n",
              "      <th>50</th>\n",
              "      <td>5</td>\n",
              "      <td>Lampung, Sumatera Selatan</td>\n",
              "      <td>20</td>\n",
              "    </tr>\n",
              "  </tbody>\n",
              "</table>\n",
              "</div>\n",
              "      <button class=\"colab-df-convert\" onclick=\"convertToInteractive('df-b06b9492-200a-424a-8055-55d76e97eb1a')\"\n",
              "              title=\"Convert this dataframe to an interactive table.\"\n",
              "              style=\"display:none;\">\n",
              "        \n",
              "  <svg xmlns=\"http://www.w3.org/2000/svg\" height=\"24px\"viewBox=\"0 0 24 24\"\n",
              "       width=\"24px\">\n",
              "    <path d=\"M0 0h24v24H0V0z\" fill=\"none\"/>\n",
              "    <path d=\"M18.56 5.44l.94 2.06.94-2.06 2.06-.94-2.06-.94-.94-2.06-.94 2.06-2.06.94zm-11 1L8.5 8.5l.94-2.06 2.06-.94-2.06-.94L8.5 2.5l-.94 2.06-2.06.94zm10 10l.94 2.06.94-2.06 2.06-.94-2.06-.94-.94-2.06-.94 2.06-2.06.94z\"/><path d=\"M17.41 7.96l-1.37-1.37c-.4-.4-.92-.59-1.43-.59-.52 0-1.04.2-1.43.59L10.3 9.45l-7.72 7.72c-.78.78-.78 2.05 0 2.83L4 21.41c.39.39.9.59 1.41.59.51 0 1.02-.2 1.41-.59l7.78-7.78 2.81-2.81c.8-.78.8-2.07 0-2.86zM5.41 20L4 18.59l7.72-7.72 1.47 1.35L5.41 20z\"/>\n",
              "  </svg>\n",
              "      </button>\n",
              "      \n",
              "  <style>\n",
              "    .colab-df-container {\n",
              "      display:flex;\n",
              "      flex-wrap:wrap;\n",
              "      gap: 12px;\n",
              "    }\n",
              "\n",
              "    .colab-df-convert {\n",
              "      background-color: #E8F0FE;\n",
              "      border: none;\n",
              "      border-radius: 50%;\n",
              "      cursor: pointer;\n",
              "      display: none;\n",
              "      fill: #1967D2;\n",
              "      height: 32px;\n",
              "      padding: 0 0 0 0;\n",
              "      width: 32px;\n",
              "    }\n",
              "\n",
              "    .colab-df-convert:hover {\n",
              "      background-color: #E2EBFA;\n",
              "      box-shadow: 0px 1px 2px rgba(60, 64, 67, 0.3), 0px 1px 3px 1px rgba(60, 64, 67, 0.15);\n",
              "      fill: #174EA6;\n",
              "    }\n",
              "\n",
              "    [theme=dark] .colab-df-convert {\n",
              "      background-color: #3B4455;\n",
              "      fill: #D2E3FC;\n",
              "    }\n",
              "\n",
              "    [theme=dark] .colab-df-convert:hover {\n",
              "      background-color: #434B5C;\n",
              "      box-shadow: 0px 1px 3px 1px rgba(0, 0, 0, 0.15);\n",
              "      filter: drop-shadow(0px 1px 2px rgba(0, 0, 0, 0.3));\n",
              "      fill: #FFFFFF;\n",
              "    }\n",
              "  </style>\n",
              "\n",
              "      <script>\n",
              "        const buttonEl =\n",
              "          document.querySelector('#df-b06b9492-200a-424a-8055-55d76e97eb1a button.colab-df-convert');\n",
              "        buttonEl.style.display =\n",
              "          google.colab.kernel.accessAllowed ? 'block' : 'none';\n",
              "\n",
              "        async function convertToInteractive(key) {\n",
              "          const element = document.querySelector('#df-b06b9492-200a-424a-8055-55d76e97eb1a');\n",
              "          const dataTable =\n",
              "            await google.colab.kernel.invokeFunction('convertToInteractive',\n",
              "                                                     [key], {});\n",
              "          if (!dataTable) return;\n",
              "\n",
              "          const docLinkHtml = 'Like what you see? Visit the ' +\n",
              "            '<a target=\"_blank\" href=https://colab.research.google.com/notebooks/data_table.ipynb>data table notebook</a>'\n",
              "            + ' to learn more about interactive tables.';\n",
              "          element.innerHTML = '';\n",
              "          dataTable['output_type'] = 'display_data';\n",
              "          await google.colab.output.renderOutput(dataTable, element);\n",
              "          const docLink = document.createElement('div');\n",
              "          docLink.innerHTML = docLinkHtml;\n",
              "          element.appendChild(docLink);\n",
              "        }\n",
              "      </script>\n",
              "    </div>\n",
              "  </div>\n",
              "  "
            ]
          },
          "metadata": {},
          "execution_count": 60
        }
      ]
    },
    {
      "cell_type": "code",
      "source": [
        "user.shape"
      ],
      "metadata": {
        "colab": {
          "base_uri": "https://localhost:8080/"
        },
        "id": "ZZcWebkpPdJH",
        "outputId": "8d91331a-5527-4bc0-f835-01800ce8d3c0"
      },
      "execution_count": null,
      "outputs": [
        {
          "output_type": "execute_result",
          "data": {
            "text/plain": [
              "(293, 3)"
            ]
          },
          "metadata": {},
          "execution_count": 61
        }
      ]
    },
    {
      "cell_type": "code",
      "source": [
        "# Membuat dataframe berisi lokasi dengan jumlah rating terbanyak\n",
        "top_10 = rating['Place_Id'].value_counts().reset_index()[0:10]\n",
        "top_10 = pd.merge(top_10, place[['Place_Id','Place_Name']], how='left', left_on='index', right_on='Place_Id')\n",
        "\n",
        "# Membuat visualisasi wisata dengan jumlah rating terbanyak\n",
        "plt.figure(figsize=(8,5))\n",
        "sns.barplot(x='Place_Id_x', y='Place_Name', data=top_10)\n",
        "plt.title('Jumlah Tempat Wisata dengan Rating Terbanyak', pad=20)\n",
        "plt.ylabel('Jumlah Rating')\n",
        "plt.xlabel('Nama Lokasi')\n",
        "plt.show()"
      ],
      "metadata": {
        "colab": {
          "base_uri": "https://localhost:8080/",
          "height": 515
        },
        "id": "Oe3HCyGNP9_N",
        "outputId": "601efecf-ad7b-480c-d175-f376b51bfe63"
      },
      "execution_count": null,
      "outputs": [
        {
          "output_type": "display_data",
          "data": {
            "text/plain": [
              "<Figure size 800x500 with 1 Axes>"
            ],
            "image/png": "[encoded data removed]"
          },
          "metadata": {}
        }
      ]
    },
    {
      "cell_type": "code",
      "source": [
        "# Membuat visualisasi jumlah kategori wisata di Kota Surabaya\n",
        "\n",
        "sns.countplot(y='Category', data=place)\n",
        "plt.title('Perbandingan Jumlah Kategori Wisata di Kota Surabaya', pad=20)\n",
        "plt.show()"
      ],
      "metadata": {
        "colab": {
          "base_uri": "https://localhost:8080/",
          "height": 500
        },
        "id": "dsz5nCrOQDZH",
        "outputId": "ce86d948-830b-469e-bf98-70bc53c136a1"
      },
      "execution_count": null,
      "outputs": [
        {
          "output_type": "display_data",
          "data": {
            "text/plain": [
              "<Figure size 640x480 with 1 Axes>"
            ],
            "image/png": "[encoded data removed]"
          },
          "metadata": {}
        }
      ]
    },
    {
      "cell_type": "code",
      "source": [
        "# Membuat visualisasi distribusi usia user\n",
        "\n",
        "plt.figure(figsize=(5,3))\n",
        "sns.boxplot(user['Age']);\n",
        "plt.title('Distribusi Usia User', pad=20)\n",
        "plt.show()"
      ],
      "metadata": {
        "colab": {
          "base_uri": "https://localhost:8080/",
          "height": 337
        },
        "id": "dIDm5OBDTGHl",
        "outputId": "ab0fb776-3eb0-4535-dc79-7304ed7afa82"
      },
      "execution_count": null,
      "outputs": [
        {
          "output_type": "display_data",
          "data": {
            "text/plain": [
              "<Figure size 500x300 with 1 Axes>"
            ],
            "image/png": "[encoded data removed]"
          },
          "metadata": {}
        }
      ]
    },
    {
      "cell_type": "code",
      "source": [
        "# Membuat visualisasi distribusi harga masuk tempat wisata\n",
        "\n",
        "plt.figure(figsize=(7,3))\n",
        "sns.boxplot(data=place, x='Price')\n",
        "plt.title('Distribusi Harga Masuk Wisata di Kota Surabaya', pad=20)\n",
        "plt.show()"
      ],
      "metadata": {
        "colab": {
          "base_uri": "https://localhost:8080/",
          "height": 361
        },
        "id": "7hcwyJqRUBhE",
        "outputId": "d9689a36-a8e3-4d90-cccc-67f677ec613e"
      },
      "execution_count": null,
      "outputs": [
        {
          "output_type": "display_data",
          "data": {
            "text/plain": [
              "<Figure size 700x300 with 1 Axes>"
            ],
            "image/png": "[encoded data removed]"
          },
          "metadata": {}
        }
      ]
    },
    {
      "cell_type": "code",
      "source": [
        "# Memfilter asal kota dari user\n",
        "askot = user['Location'].apply(lambda x : x.split(',')[0])\n",
        "\n",
        "# Visualisasi asal kota dari user\n",
        "plt.figure(figsize=(8,6))\n",
        "sns.countplot(y=askot)\n",
        "plt.title('Jumlah Asal Kota dari User')\n",
        "plt.show()"
      ],
      "metadata": {
        "colab": {
          "base_uri": "https://localhost:8080/",
          "height": 573
        },
        "id": "fUiM7G6EUMaf",
        "outputId": "1c5fafc0-10de-4d5e-deec-ceaf4823c2ea"
      },
      "execution_count": null,
      "outputs": [
        {
          "output_type": "display_data",
          "data": {
            "text/plain": [
              "<Figure size 800x600 with 1 Axes>"
            ],
            "image/png": "[encoded data removed]"
          },
          "metadata": {}
        }
      ]
    },
    {
      "cell_type": "code",
      "source": [
        "# Membaca dataset untuk dilakukan encoding\n",
        " \n",
        "df = rating.copy()\n",
        "df.head()"
      ],
      "metadata": {
        "colab": {
          "base_uri": "https://localhost:8080/",
          "height": 206
        },
        "id": "jJUmZvaTU0a0",
        "outputId": "7c00274e-baef-4884-9b3d-6be9fbfdf4f3"
      },
      "execution_count": null,
      "outputs": [
        {
          "output_type": "execute_result",
          "data": {
            "text/plain": [
              "   User_Id  Place_Id  Place_Ratings\n",
              "0       25       392              4\n",
              "1       44       392              3\n",
              "2      108       392              5\n",
              "3      119       392              3\n",
              "4      125       392              5"
            ],
            "text/html": [
              "\n",
              "  <div id=\"df-dcc0a24c-bcbd-44a7-89c0-4ad1589f59c5\">\n",
              "    <div class=\"colab-df-container\">\n",
              "      <div>\n",
              "<style scoped>\n",
              "    .dataframe tbody tr th:only-of-type {\n",
              "        vertical-align: middle;\n",
              "    }\n",
              "\n",
              "    .dataframe tbody tr th {\n",
              "        vertical-align: top;\n",
              "    }\n",
              "\n",
              "    .dataframe thead th {\n",
              "        text-align: right;\n",
              "    }\n",
              "</style>\n",
              "<table border=\"1\" class=\"dataframe\">\n",
              "  <thead>\n",
              "    <tr style=\"text-align: right;\">\n",
              "      <th></th>\n",
              "      <th>User_Id</th>\n",
              "      <th>Place_Id</th>\n",
              "      <th>Place_Ratings</th>\n",
              "    </tr>\n",
              "  </thead>\n",
              "  <tbody>\n",
              "    <tr>\n",
              "      <th>0</th>\n",
              "      <td>25</td>\n",
              "      <td>392</td>\n",
              "      <td>4</td>\n",
              "    </tr>\n",
              "    <tr>\n",
              "      <th>1</th>\n",
              "      <td>44</td>\n",
              "      <td>392</td>\n",
              "      <td>3</td>\n",
              "    </tr>\n",
              "    <tr>\n",
              "      <th>2</th>\n",
              "      <td>108</td>\n",
              "      <td>392</td>\n",
              "      <td>5</td>\n",
              "    </tr>\n",
              "    <tr>\n",
              "      <th>3</th>\n",
              "      <td>119</td>\n",
              "      <td>392</td>\n",
              "      <td>3</td>\n",
              "    </tr>\n",
              "    <tr>\n",
              "      <th>4</th>\n",
              "      <td>125</td>\n",
              "      <td>392</td>\n",
              "      <td>5</td>\n",
              "    </tr>\n",
              "  </tbody>\n",
              "</table>\n",
              "</div>\n",
              "      <button class=\"colab-df-convert\" onclick=\"convertToInteractive('df-dcc0a24c-bcbd-44a7-89c0-4ad1589f59c5')\"\n",
              "              title=\"Convert this dataframe to an interactive table.\"\n",
              "              style=\"display:none;\">\n",
              "        \n",
              "  <svg xmlns=\"http://www.w3.org/2000/svg\" height=\"24px\"viewBox=\"0 0 24 24\"\n",
              "       width=\"24px\">\n",
              "    <path d=\"M0 0h24v24H0V0z\" fill=\"none\"/>\n",
              "    <path d=\"M18.56 5.44l.94 2.06.94-2.06 2.06-.94-2.06-.94-.94-2.06-.94 2.06-2.06.94zm-11 1L8.5 8.5l.94-2.06 2.06-.94-2.06-.94L8.5 2.5l-.94 2.06-2.06.94zm10 10l.94 2.06.94-2.06 2.06-.94-2.06-.94-.94-2.06-.94 2.06-2.06.94z\"/><path d=\"M17.41 7.96l-1.37-1.37c-.4-.4-.92-.59-1.43-.59-.52 0-1.04.2-1.43.59L10.3 9.45l-7.72 7.72c-.78.78-.78 2.05 0 2.83L4 21.41c.39.39.9.59 1.41.59.51 0 1.02-.2 1.41-.59l7.78-7.78 2.81-2.81c.8-.78.8-2.07 0-2.86zM5.41 20L4 18.59l7.72-7.72 1.47 1.35L5.41 20z\"/>\n",
              "  </svg>\n",
              "      </button>\n",
              "      \n",
              "  <style>\n",
              "    .colab-df-container {\n",
              "      display:flex;\n",
              "      flex-wrap:wrap;\n",
              "      gap: 12px;\n",
              "    }\n",
              "\n",
              "    .colab-df-convert {\n",
              "      background-color: #E8F0FE;\n",
              "      border: none;\n",
              "      border-radius: 50%;\n",
              "      cursor: pointer;\n",
              "      display: none;\n",
              "      fill: #1967D2;\n",
              "      height: 32px;\n",
              "      padding: 0 0 0 0;\n",
              "      width: 32px;\n",
              "    }\n",
              "\n",
              "    .colab-df-convert:hover {\n",
              "      background-color: #E2EBFA;\n",
              "      box-shadow: 0px 1px 2px rgba(60, 64, 67, 0.3), 0px 1px 3px 1px rgba(60, 64, 67, 0.15);\n",
              "      fill: #174EA6;\n",
              "    }\n",
              "\n",
              "    [theme=dark] .colab-df-convert {\n",
              "      background-color: #3B4455;\n",
              "      fill: #D2E3FC;\n",
              "    }\n",
              "\n",
              "    [theme=dark] .colab-df-convert:hover {\n",
              "      background-color: #434B5C;\n",
              "      box-shadow: 0px 1px 3px 1px rgba(0, 0, 0, 0.15);\n",
              "      filter: drop-shadow(0px 1px 2px rgba(0, 0, 0, 0.3));\n",
              "      fill: #FFFFFF;\n",
              "    }\n",
              "  </style>\n",
              "\n",
              "      <script>\n",
              "        const buttonEl =\n",
              "          document.querySelector('#df-dcc0a24c-bcbd-44a7-89c0-4ad1589f59c5 button.colab-df-convert');\n",
              "        buttonEl.style.display =\n",
              "          google.colab.kernel.accessAllowed ? 'block' : 'none';\n",
              "\n",
              "        async function convertToInteractive(key) {\n",
              "          const element = document.querySelector('#df-dcc0a24c-bcbd-44a7-89c0-4ad1589f59c5');\n",
              "          const dataTable =\n",
              "            await google.colab.kernel.invokeFunction('convertToInteractive',\n",
              "                                                     [key], {});\n",
              "          if (!dataTable) return;\n",
              "\n",
              "          const docLinkHtml = 'Like what you see? Visit the ' +\n",
              "            '<a target=\"_blank\" href=https://colab.research.google.com/notebooks/data_table.ipynb>data table notebook</a>'\n",
              "            + ' to learn more about interactive tables.';\n",
              "          element.innerHTML = '';\n",
              "          dataTable['output_type'] = 'display_data';\n",
              "          await google.colab.output.renderOutput(dataTable, element);\n",
              "          const docLink = document.createElement('div');\n",
              "          docLink.innerHTML = docLinkHtml;\n",
              "          element.appendChild(docLink);\n",
              "        }\n",
              "      </script>\n",
              "    </div>\n",
              "  </div>\n",
              "  "
            ]
          },
          "metadata": {},
          "execution_count": 79
        }
      ]
    },
    {
      "cell_type": "code",
      "source": [
        "def dict_encoder(col, data=df):\n",
        "\n",
        "  # Mengubah kolom suatu dataframe menjadi list tanpa nilai yang sama\n",
        "  unique_val = data[col].unique().tolist()\n",
        "\n",
        "  # Melakukan encoding value kolom suatu dataframe ke angka\n",
        "  val_to_val_encoded = {x: i for i, x in enumerate(unique_val)}\n",
        "\n",
        "  # Melakukan proses encoding angka ke value dari kolom suatu dataframe\n",
        "  val_encoded_to_val = {i: x for i, x in enumerate(unique_val)}\n",
        "  return val_to_val_encoded, val_encoded_to_val"
      ],
      "metadata": {
        "id": "tt9jFoYoU-0Q"
      },
      "execution_count": null,
      "outputs": []
    },
    {
      "cell_type": "code",
      "source": [
        "# Encoding User_Id\n",
        "user_to_user_encoded, user_encoded_to_user = dict_encoder('User_Id')\n",
        "\n",
        "# Mapping User_Id ke dataframe\n",
        "df['user'] = df['User_Id'].map(user_to_user_encoded)"
      ],
      "metadata": {
        "id": "RrotUROGVD9x"
      },
      "execution_count": null,
      "outputs": []
    },
    {
      "cell_type": "code",
      "source": [
        "# Encoding Place_Id\n",
        "place_to_place_encoded, place_encoded_to_place = dict_encoder('Place_Id')\n",
        "\n",
        "# Mapping Place_Id ke dataframe place\n",
        "df['place'] = df['Place_Id'].map(place_to_place_encoded)"
      ],
      "metadata": {
        "id": "chKOTkrDVH_d"
      },
      "execution_count": null,
      "outputs": []
    },
    {
      "cell_type": "code",
      "source": [
        "# Mendapatkan jumlah user dan place\n",
        "num_users, num_place = len(user_to_user_encoded), len(place_to_place_encoded)\n",
        " \n",
        "# Mengubah rating menjadi nilai float\n",
        "df['Place_Ratings'] = df['Place_Ratings'].values.astype(np.float32)\n",
        " \n",
        "# Mendapatkan nilai minimum dan maksimum rating\n",
        "min_rating, max_rating = min(df['Place_Ratings']), max(df['Place_Ratings'])\n",
        " \n",
        "print(f'Number of User: {num_users}, Number of Place: {num_place}, Min Rating: {min_rating}, Max Rating: {max_rating}')"
      ],
      "metadata": {
        "colab": {
          "base_uri": "https://localhost:8080/"
        },
        "id": "qWnklof6VQfp",
        "outputId": "3010832c-09be-43a0-e235-929dbdbe7c46"
      },
      "execution_count": null,
      "outputs": [
        {
          "output_type": "stream",
          "name": "stdout",
          "text": [
            "Number of User: 293, Number of Place: 46, Min Rating: 1.0, Max Rating: 5.0\n"
          ]
        }
      ]
    },
    {
      "cell_type": "code",
      "source": [
        "# Mengacak dataset\n",
        "df = df.sample(frac=1, random_state=42)\n",
        "df.head(2)"
      ],
      "metadata": {
        "colab": {
          "base_uri": "https://localhost:8080/",
          "height": 112
        },
        "id": "-EfxRCUDVW0j",
        "outputId": "21896167-3e8c-4351-bb92-5d39eb960a10"
      },
      "execution_count": null,
      "outputs": [
        {
          "output_type": "execute_result",
          "data": {
            "text/plain": [
              "     User_Id  Place_Id  Place_Ratings  user  place\n",
              "352      268       407            2.0    86     15\n",
              "689       75       423            1.0   281     31"
            ],
            "text/html": [
              "\n",
              "  <div id=\"df-e3a5b17e-a0e9-4e5c-b0da-4aefc60d1d2c\">\n",
              "    <div class=\"colab-df-container\">\n",
              "      <div>\n",
              "<style scoped>\n",
              "    .dataframe tbody tr th:only-of-type {\n",
              "        vertical-align: middle;\n",
              "    }\n",
              "\n",
              "    .dataframe tbody tr th {\n",
              "        vertical-align: top;\n",
              "    }\n",
              "\n",
              "    .dataframe thead th {\n",
              "        text-align: right;\n",
              "    }\n",
              "</style>\n",
              "<table border=\"1\" class=\"dataframe\">\n",
              "  <thead>\n",
              "    <tr style=\"text-align: right;\">\n",
              "      <th></th>\n",
              "      <th>User_Id</th>\n",
              "      <th>Place_Id</th>\n",
              "      <th>Place_Ratings</th>\n",
              "      <th>user</th>\n",
              "      <th>place</th>\n",
              "    </tr>\n",
              "  </thead>\n",
              "  <tbody>\n",
              "    <tr>\n",
              "      <th>352</th>\n",
              "      <td>268</td>\n",
              "      <td>407</td>\n",
              "      <td>2.0</td>\n",
              "      <td>86</td>\n",
              "      <td>15</td>\n",
              "    </tr>\n",
              "    <tr>\n",
              "      <th>689</th>\n",
              "      <td>75</td>\n",
              "      <td>423</td>\n",
              "      <td>1.0</td>\n",
              "      <td>281</td>\n",
              "      <td>31</td>\n",
              "    </tr>\n",
              "  </tbody>\n",
              "</table>\n",
              "</div>\n",
              "      <button class=\"colab-df-convert\" onclick=\"convertToInteractive('df-e3a5b17e-a0e9-4e5c-b0da-4aefc60d1d2c')\"\n",
              "              title=\"Convert this dataframe to an interactive table.\"\n",
              "              style=\"display:none;\">\n",
              "        \n",
              "  <svg xmlns=\"http://www.w3.org/2000/svg\" height=\"24px\"viewBox=\"0 0 24 24\"\n",
              "       width=\"24px\">\n",
              "    <path d=\"M0 0h24v24H0V0z\" fill=\"none\"/>\n",
              "    <path d=\"M18.56 5.44l.94 2.06.94-2.06 2.06-.94-2.06-.94-.94-2.06-.94 2.06-2.06.94zm-11 1L8.5 8.5l.94-2.06 2.06-.94-2.06-.94L8.5 2.5l-.94 2.06-2.06.94zm10 10l.94 2.06.94-2.06 2.06-.94-2.06-.94-.94-2.06-.94 2.06-2.06.94z\"/><path d=\"M17.41 7.96l-1.37-1.37c-.4-.4-.92-.59-1.43-.59-.52 0-1.04.2-1.43.59L10.3 9.45l-7.72 7.72c-.78.78-.78 2.05 0 2.83L4 21.41c.39.39.9.59 1.41.59.51 0 1.02-.2 1.41-.59l7.78-7.78 2.81-2.81c.8-.78.8-2.07 0-2.86zM5.41 20L4 18.59l7.72-7.72 1.47 1.35L5.41 20z\"/>\n",
              "  </svg>\n",
              "      </button>\n",
              "      \n",
              "  <style>\n",
              "    .colab-df-container {\n",
              "      display:flex;\n",
              "      flex-wrap:wrap;\n",
              "      gap: 12px;\n",
              "    }\n",
              "\n",
              "    .colab-df-convert {\n",
              "      background-color: #E8F0FE;\n",
              "      border: none;\n",
              "      border-radius: 50%;\n",
              "      cursor: pointer;\n",
              "      display: none;\n",
              "      fill: #1967D2;\n",
              "      height: 32px;\n",
              "      padding: 0 0 0 0;\n",
              "      width: 32px;\n",
              "    }\n",
              "\n",
              "    .colab-df-convert:hover {\n",
              "      background-color: #E2EBFA;\n",
              "      box-shadow: 0px 1px 2px rgba(60, 64, 67, 0.3), 0px 1px 3px 1px rgba(60, 64, 67, 0.15);\n",
              "      fill: #174EA6;\n",
              "    }\n",
              "\n",
              "    [theme=dark] .colab-df-convert {\n",
              "      background-color: #3B4455;\n",
              "      fill: #D2E3FC;\n",
              "    }\n",
              "\n",
              "    [theme=dark] .colab-df-convert:hover {\n",
              "      background-color: #434B5C;\n",
              "      box-shadow: 0px 1px 3px 1px rgba(0, 0, 0, 0.15);\n",
              "      filter: drop-shadow(0px 1px 2px rgba(0, 0, 0, 0.3));\n",
              "      fill: #FFFFFF;\n",
              "    }\n",
              "  </style>\n",
              "\n",
              "      <script>\n",
              "        const buttonEl =\n",
              "          document.querySelector('#df-e3a5b17e-a0e9-4e5c-b0da-4aefc60d1d2c button.colab-df-convert');\n",
              "        buttonEl.style.display =\n",
              "          google.colab.kernel.accessAllowed ? 'block' : 'none';\n",
              "\n",
              "        async function convertToInteractive(key) {\n",
              "          const element = document.querySelector('#df-e3a5b17e-a0e9-4e5c-b0da-4aefc60d1d2c');\n",
              "          const dataTable =\n",
              "            await google.colab.kernel.invokeFunction('convertToInteractive',\n",
              "                                                     [key], {});\n",
              "          if (!dataTable) return;\n",
              "\n",
              "          const docLinkHtml = 'Like what you see? Visit the ' +\n",
              "            '<a target=\"_blank\" href=https://colab.research.google.com/notebooks/data_table.ipynb>data table notebook</a>'\n",
              "            + ' to learn more about interactive tables.';\n",
              "          element.innerHTML = '';\n",
              "          dataTable['output_type'] = 'display_data';\n",
              "          await google.colab.output.renderOutput(dataTable, element);\n",
              "          const docLink = document.createElement('div');\n",
              "          docLink.innerHTML = docLinkHtml;\n",
              "          element.appendChild(docLink);\n",
              "        }\n",
              "      </script>\n",
              "    </div>\n",
              "  </div>\n",
              "  "
            ]
          },
          "metadata": {},
          "execution_count": 84
        }
      ]
    },
    {
      "cell_type": "code",
      "source": [
        "# Membuat variabel x untuk mencocokkan data user dan place menjadi satu value\n",
        "x = df[['user', 'place']].values\n",
        " \n",
        "# Membuat variabel y untuk membuat rating dari hasil \n",
        "y = df['Place_Ratings'].apply(lambda x: (x - min_rating) / (max_rating - min_rating)).values\n",
        " \n",
        "# Membagi menjadi 80% data train dan 20% data validasi\n",
        "train_indices = int(0.8 * df.shape[0])\n",
        "x_train, x_val, y_train, y_val = (\n",
        "    x[:train_indices],\n",
        "    x[train_indices:],\n",
        "    y[:train_indices],\n",
        "    y[train_indices:]\n",
        ")"
      ],
      "metadata": {
        "id": "YK7YUThJVcJx"
      },
      "execution_count": null,
      "outputs": []
    },
    {
      "cell_type": "code",
      "source": [
        "class RecommenderNet(tf.keras.Model):\n",
        " \n",
        "  # Insialisasi fungsi\n",
        "  def __init__(self, num_users, num_places, embedding_size, **kwargs):\n",
        "    super(RecommenderNet, self).__init__(**kwargs)\n",
        "    self.num_users = num_users\n",
        "    self.num_places = num_places\n",
        "    self.embedding_size = embedding_size\n",
        "    self.user_embedding = layers.Embedding( # layer embedding user\n",
        "        num_users,\n",
        "        embedding_size,\n",
        "        embeddings_initializer = 'he_normal',\n",
        "        embeddings_regularizer = keras.regularizers.l2(1e-6)\n",
        "    )\n",
        "    self.user_bias = layers.Embedding(num_users, 1) # layer embedding user bias\n",
        "    self.places_embedding = layers.Embedding( # layer embeddings places\n",
        "        num_places,\n",
        "        embedding_size,\n",
        "        embeddings_initializer = 'he_normal',\n",
        "        embeddings_regularizer = keras.regularizers.l2(1e-6)\n",
        "    )\n",
        "    self.places_bias = layers.Embedding(num_places, 1) # layer embedding places bias\n",
        " \n",
        "  def call(self, inputs):\n",
        "    user_vector = self.user_embedding(inputs[:,0]) # memanggil layer embedding 1\n",
        "    user_bias = self.user_bias(inputs[:, 0]) # memanggil layer embedding 2\n",
        "    places_vector = self.places_embedding(inputs[:, 1]) # memanggil layer embedding 3\n",
        "    places_bias = self.places_bias(inputs[:, 1]) # memanggil layer embedding 4\n",
        " \n",
        "    dot_user_places = tf.tensordot(user_vector, places_vector, 2) \n",
        " \n",
        "    x = dot_user_places + user_bias + places_bias\n",
        "    \n",
        "    return tf.nn.sigmoid(x) # activation sigmoid"
      ],
      "metadata": {
        "id": "kuXTJP6fVkgQ"
      },
      "execution_count": null,
      "outputs": []
    },
    {
      "cell_type": "code",
      "source": [
        "model = RecommenderNet(num_users, num_place, 50) # inisialisasi model\n",
        " \n",
        "# model compile\n",
        "model.compile(\n",
        "    loss = tf.keras.losses.BinaryCrossentropy(),\n",
        "    optimizer = keras.optimizers.Adam(learning_rate=0.0004),\n",
        "    metrics=[tf.keras.metrics.RootMeanSquaredError()]\n",
        ")"
      ],
      "metadata": {
        "id": "yhS4C7szVscX"
      },
      "execution_count": null,
      "outputs": []
    },
    {
      "cell_type": "code",
      "source": [
        " class myCallback(tf.keras.callbacks.Callback):\n",
        "  def on_epoch_end(self, epoch, logs={}):\n",
        "    if(logs.get('val_root_mean_squared_error')<0.25):\n",
        "      print('Lapor! Metriks validasi sudah sesuai harapan')\n",
        "      self.model.stop_training = True"
      ],
      "metadata": {
        "id": "R6ZLZITKVwPx"
      },
      "execution_count": null,
      "outputs": []
    },
    {
      "cell_type": "code",
      "source": [
        "# Memulai training\n",
        " \n",
        "history = model.fit(\n",
        "    x = x_train,\n",
        "    y = y_train,\n",
        "    epochs = 100,\n",
        "    validation_data = (x_val, y_val),\n",
        "    callbacks = [myCallback()]\n",
        ")"
      ],
      "metadata": {
        "colab": {
          "base_uri": "https://localhost:8080/"
        },
        "id": "HsQROJcRV9va",
        "outputId": "afc2cf85-79b2-4c8a-ae86-cd637ff65618"
      },
      "execution_count": null,
      "outputs": [
        {
          "output_type": "stream",
          "name": "stdout",
          "text": [
            "Epoch 1/100\n",
            "27/27 [==============================] - 3s 14ms/step - loss: 0.7271 - root_mean_squared_error: 0.3682 - val_loss: 0.7403 - val_root_mean_squared_error: 0.3799\n",
            "Epoch 2/100\n",
            "27/27 [==============================] - 0s 4ms/step - loss: 0.7717 - root_mean_squared_error: 0.3919 - val_loss: 0.7409 - val_root_mean_squared_error: 0.3803\n",
            "Epoch 3/100\n",
            "27/27 [==============================] - 0s 4ms/step - loss: 0.7697 - root_mean_squared_error: 0.3920 - val_loss: 0.7407 - val_root_mean_squared_error: 0.3801\n",
            "Epoch 4/100\n",
            "27/27 [==============================] - 0s 4ms/step - loss: 0.7419 - root_mean_squared_error: 0.3768 - val_loss: 0.7407 - val_root_mean_squared_error: 0.3800\n",
            "Epoch 5/100\n",
            "27/27 [==============================] - 0s 4ms/step - loss: 0.7331 - root_mean_squared_error: 0.3703 - val_loss: 0.7392 - val_root_mean_squared_error: 0.3791\n",
            "Epoch 6/100\n",
            "27/27 [==============================] - 0s 5ms/step - loss: 0.7436 - root_mean_squared_error: 0.3773 - val_loss: 0.7404 - val_root_mean_squared_error: 0.3799\n",
            "Epoch 7/100\n",
            "27/27 [==============================] - 0s 4ms/step - loss: 0.7681 - root_mean_squared_error: 0.3908 - val_loss: 0.7394 - val_root_mean_squared_error: 0.3793\n",
            "Epoch 8/100\n",
            "27/27 [==============================] - 0s 4ms/step - loss: 0.7672 - root_mean_squared_error: 0.3892 - val_loss: 0.7379 - val_root_mean_squared_error: 0.3782\n",
            "Epoch 9/100\n",
            "27/27 [==============================] - 0s 4ms/step - loss: 0.7492 - root_mean_squared_error: 0.3803 - val_loss: 0.7362 - val_root_mean_squared_error: 0.3771\n",
            "Epoch 10/100\n",
            "27/27 [==============================] - 0s 4ms/step - loss: 0.7180 - root_mean_squared_error: 0.3625 - val_loss: 0.7369 - val_root_mean_squared_error: 0.3775\n",
            "Epoch 11/100\n",
            "27/27 [==============================] - 0s 4ms/step - loss: 0.7153 - root_mean_squared_error: 0.3608 - val_loss: 0.7383 - val_root_mean_squared_error: 0.3784\n",
            "Epoch 12/100\n",
            "27/27 [==============================] - 0s 4ms/step - loss: 0.7169 - root_mean_squared_error: 0.3621 - val_loss: 0.7384 - val_root_mean_squared_error: 0.3784\n",
            "Epoch 13/100\n",
            "27/27 [==============================] - 0s 4ms/step - loss: 0.7241 - root_mean_squared_error: 0.3662 - val_loss: 0.7366 - val_root_mean_squared_error: 0.3773\n",
            "Epoch 14/100\n",
            "27/27 [==============================] - 0s 4ms/step - loss: 0.7177 - root_mean_squared_error: 0.3628 - val_loss: 0.7366 - val_root_mean_squared_error: 0.3773\n",
            "Epoch 15/100\n",
            "27/27 [==============================] - 0s 5ms/step - loss: 0.7092 - root_mean_squared_error: 0.3571 - val_loss: 0.7377 - val_root_mean_squared_error: 0.3779\n",
            "Epoch 16/100\n",
            "27/27 [==============================] - 0s 4ms/step - loss: 0.7308 - root_mean_squared_error: 0.3702 - val_loss: 0.7378 - val_root_mean_squared_error: 0.3780\n",
            "Epoch 17/100\n",
            "27/27 [==============================] - 0s 4ms/step - loss: 0.7129 - root_mean_squared_error: 0.3597 - val_loss: 0.7368 - val_root_mean_squared_error: 0.3773\n",
            "Epoch 18/100\n",
            "27/27 [==============================] - 0s 4ms/step - loss: 0.7209 - root_mean_squared_error: 0.3639 - val_loss: 0.7381 - val_root_mean_squared_error: 0.3781\n",
            "Epoch 19/100\n",
            "27/27 [==============================] - 0s 4ms/step - loss: 0.7136 - root_mean_squared_error: 0.3598 - val_loss: 0.7406 - val_root_mean_squared_error: 0.3796\n",
            "Epoch 20/100\n",
            "27/27 [==============================] - 0s 4ms/step - loss: 0.7156 - root_mean_squared_error: 0.3613 - val_loss: 0.7411 - val_root_mean_squared_error: 0.3800\n",
            "Epoch 21/100\n",
            "27/27 [==============================] - 0s 5ms/step - loss: 0.7217 - root_mean_squared_error: 0.3642 - val_loss: 0.7423 - val_root_mean_squared_error: 0.3807\n",
            "Epoch 22/100\n",
            "27/27 [==============================] - 0s 4ms/step - loss: 0.7048 - root_mean_squared_error: 0.3542 - val_loss: 0.7429 - val_root_mean_squared_error: 0.3810\n",
            "Epoch 23/100\n",
            "27/27 [==============================] - 0s 5ms/step - loss: 0.6934 - root_mean_squared_error: 0.3469 - val_loss: 0.7416 - val_root_mean_squared_error: 0.3801\n",
            "Epoch 24/100\n",
            "27/27 [==============================] - 0s 4ms/step - loss: 0.7041 - root_mean_squared_error: 0.3533 - val_loss: 0.7404 - val_root_mean_squared_error: 0.3793\n",
            "Epoch 25/100\n",
            "27/27 [==============================] - 0s 4ms/step - loss: 0.6917 - root_mean_squared_error: 0.3454 - val_loss: 0.7416 - val_root_mean_squared_error: 0.3801\n",
            "Epoch 26/100\n",
            "27/27 [==============================] - 0s 4ms/step - loss: 0.6899 - root_mean_squared_error: 0.3444 - val_loss: 0.7409 - val_root_mean_squared_error: 0.3796\n",
            "Epoch 27/100\n",
            "27/27 [==============================] - 0s 4ms/step - loss: 0.6984 - root_mean_squared_error: 0.3504 - val_loss: 0.7412 - val_root_mean_squared_error: 0.3797\n",
            "Epoch 28/100\n",
            "27/27 [==============================] - 0s 5ms/step - loss: 0.7198 - root_mean_squared_error: 0.3625 - val_loss: 0.7429 - val_root_mean_squared_error: 0.3807\n",
            "Epoch 29/100\n",
            "27/27 [==============================] - 0s 4ms/step - loss: 0.6990 - root_mean_squared_error: 0.3507 - val_loss: 0.7427 - val_root_mean_squared_error: 0.3806\n",
            "Epoch 30/100\n",
            "27/27 [==============================] - 0s 4ms/step - loss: 0.7087 - root_mean_squared_error: 0.3569 - val_loss: 0.7396 - val_root_mean_squared_error: 0.3786\n",
            "Epoch 31/100\n",
            "27/27 [==============================] - 0s 5ms/step - loss: 0.7050 - root_mean_squared_error: 0.3547 - val_loss: 0.7414 - val_root_mean_squared_error: 0.3797\n",
            "Epoch 32/100\n",
            "27/27 [==============================] - 0s 4ms/step - loss: 0.7024 - root_mean_squared_error: 0.3522 - val_loss: 0.7428 - val_root_mean_squared_error: 0.3805\n",
            "Epoch 33/100\n",
            "27/27 [==============================] - 0s 4ms/step - loss: 0.6926 - root_mean_squared_error: 0.3457 - val_loss: 0.7450 - val_root_mean_squared_error: 0.3819\n",
            "Epoch 34/100\n",
            "27/27 [==============================] - 0s 4ms/step - loss: 0.7063 - root_mean_squared_error: 0.3553 - val_loss: 0.7496 - val_root_mean_squared_error: 0.3846\n",
            "Epoch 35/100\n",
            "27/27 [==============================] - 0s 4ms/step - loss: 0.6932 - root_mean_squared_error: 0.3467 - val_loss: 0.7520 - val_root_mean_squared_error: 0.3860\n",
            "Epoch 36/100\n",
            "27/27 [==============================] - 0s 4ms/step - loss: 0.6930 - root_mean_squared_error: 0.3468 - val_loss: 0.7511 - val_root_mean_squared_error: 0.3855\n",
            "Epoch 37/100\n",
            "27/27 [==============================] - 0s 4ms/step - loss: 0.6962 - root_mean_squared_error: 0.3487 - val_loss: 0.7527 - val_root_mean_squared_error: 0.3864\n",
            "Epoch 38/100\n",
            "27/27 [==============================] - 0s 4ms/step - loss: 0.7009 - root_mean_squared_error: 0.3513 - val_loss: 0.7538 - val_root_mean_squared_error: 0.3871\n",
            "Epoch 39/100\n",
            "27/27 [==============================] - 0s 4ms/step - loss: 0.6872 - root_mean_squared_error: 0.3422 - val_loss: 0.7547 - val_root_mean_squared_error: 0.3876\n",
            "Epoch 40/100\n",
            "27/27 [==============================] - 0s 5ms/step - loss: 0.6863 - root_mean_squared_error: 0.3418 - val_loss: 0.7549 - val_root_mean_squared_error: 0.3877\n",
            "Epoch 41/100\n",
            "27/27 [==============================] - 0s 4ms/step - loss: 0.6877 - root_mean_squared_error: 0.3427 - val_loss: 0.7559 - val_root_mean_squared_error: 0.3883\n",
            "Epoch 42/100\n",
            "27/27 [==============================] - 0s 4ms/step - loss: 0.6806 - root_mean_squared_error: 0.3379 - val_loss: 0.7549 - val_root_mean_squared_error: 0.3877\n",
            "Epoch 43/100\n",
            "27/27 [==============================] - 0s 4ms/step - loss: 0.6909 - root_mean_squared_error: 0.3447 - val_loss: 0.7535 - val_root_mean_squared_error: 0.3868\n",
            "Epoch 44/100\n",
            "27/27 [==============================] - 0s 4ms/step - loss: 0.6872 - root_mean_squared_error: 0.3422 - val_loss: 0.7525 - val_root_mean_squared_error: 0.3861\n",
            "Epoch 45/100\n",
            "27/27 [==============================] - 0s 4ms/step - loss: 0.6753 - root_mean_squared_error: 0.3336 - val_loss: 0.7498 - val_root_mean_squared_error: 0.3846\n",
            "Epoch 46/100\n",
            "27/27 [==============================] - 0s 4ms/step - loss: 0.6823 - root_mean_squared_error: 0.3389 - val_loss: 0.7476 - val_root_mean_squared_error: 0.3833\n",
            "Epoch 47/100\n",
            "27/27 [==============================] - 0s 4ms/step - loss: 0.6854 - root_mean_squared_error: 0.3413 - val_loss: 0.7460 - val_root_mean_squared_error: 0.3825\n",
            "Epoch 48/100\n",
            "27/27 [==============================] - 0s 5ms/step - loss: 0.6819 - root_mean_squared_error: 0.3385 - val_loss: 0.7460 - val_root_mean_squared_error: 0.3824\n",
            "Epoch 49/100\n",
            "27/27 [==============================] - 0s 4ms/step - loss: 0.6801 - root_mean_squared_error: 0.3374 - val_loss: 0.7449 - val_root_mean_squared_error: 0.3818\n",
            "Epoch 50/100\n",
            "27/27 [==============================] - 0s 4ms/step - loss: 0.6740 - root_mean_squared_error: 0.3332 - val_loss: 0.7442 - val_root_mean_squared_error: 0.3814\n",
            "Epoch 51/100\n",
            "27/27 [==============================] - 0s 4ms/step - loss: 0.6782 - root_mean_squared_error: 0.3363 - val_loss: 0.7467 - val_root_mean_squared_error: 0.3829\n",
            "Epoch 52/100\n",
            "27/27 [==============================] - 0s 4ms/step - loss: 0.6812 - root_mean_squared_error: 0.3381 - val_loss: 0.7465 - val_root_mean_squared_error: 0.3828\n",
            "Epoch 53/100\n",
            "27/27 [==============================] - 0s 4ms/step - loss: 0.6823 - root_mean_squared_error: 0.3391 - val_loss: 0.7455 - val_root_mean_squared_error: 0.3821\n",
            "Epoch 54/100\n",
            "27/27 [==============================] - 0s 4ms/step - loss: 0.6745 - root_mean_squared_error: 0.3335 - val_loss: 0.7447 - val_root_mean_squared_error: 0.3817\n",
            "Epoch 55/100\n",
            "27/27 [==============================] - 0s 4ms/step - loss: 0.6872 - root_mean_squared_error: 0.3424 - val_loss: 0.7485 - val_root_mean_squared_error: 0.3840\n",
            "Epoch 56/100\n",
            "27/27 [==============================] - 0s 4ms/step - loss: 0.6795 - root_mean_squared_error: 0.3370 - val_loss: 0.7485 - val_root_mean_squared_error: 0.3839\n",
            "Epoch 57/100\n",
            "27/27 [==============================] - 0s 4ms/step - loss: 0.6798 - root_mean_squared_error: 0.3369 - val_loss: 0.7453 - val_root_mean_squared_error: 0.3820\n",
            "Epoch 58/100\n",
            "27/27 [==============================] - 0s 4ms/step - loss: 0.6698 - root_mean_squared_error: 0.3300 - val_loss: 0.7436 - val_root_mean_squared_error: 0.3810\n",
            "Epoch 59/100\n",
            "27/27 [==============================] - 0s 4ms/step - loss: 0.6713 - root_mean_squared_error: 0.3310 - val_loss: 0.7441 - val_root_mean_squared_error: 0.3812\n",
            "Epoch 60/100\n",
            "27/27 [==============================] - 0s 4ms/step - loss: 0.6714 - root_mean_squared_error: 0.3311 - val_loss: 0.7434 - val_root_mean_squared_error: 0.3808\n",
            "Epoch 61/100\n",
            "27/27 [==============================] - 0s 4ms/step - loss: 0.6675 - root_mean_squared_error: 0.3283 - val_loss: 0.7434 - val_root_mean_squared_error: 0.3808\n",
            "Epoch 62/100\n",
            "27/27 [==============================] - 0s 4ms/step - loss: 0.6799 - root_mean_squared_error: 0.3372 - val_loss: 0.7418 - val_root_mean_squared_error: 0.3799\n",
            "Epoch 63/100\n",
            "27/27 [==============================] - 0s 6ms/step - loss: 0.6693 - root_mean_squared_error: 0.3297 - val_loss: 0.7425 - val_root_mean_squared_error: 0.3803\n",
            "Epoch 64/100\n",
            "27/27 [==============================] - 0s 7ms/step - loss: 0.6652 - root_mean_squared_error: 0.3265 - val_loss: 0.7420 - val_root_mean_squared_error: 0.3800\n",
            "Epoch 65/100\n",
            "27/27 [==============================] - 0s 6ms/step - loss: 0.6626 - root_mean_squared_error: 0.3245 - val_loss: 0.7428 - val_root_mean_squared_error: 0.3805\n",
            "Epoch 66/100\n",
            "27/27 [==============================] - 0s 5ms/step - loss: 0.6660 - root_mean_squared_error: 0.3271 - val_loss: 0.7418 - val_root_mean_squared_error: 0.3798\n",
            "Epoch 67/100\n",
            "27/27 [==============================] - 0s 5ms/step - loss: 0.6659 - root_mean_squared_error: 0.3268 - val_loss: 0.7415 - val_root_mean_squared_error: 0.3797\n",
            "Epoch 68/100\n",
            "27/27 [==============================] - 0s 5ms/step - loss: 0.6692 - root_mean_squared_error: 0.3296 - val_loss: 0.7406 - val_root_mean_squared_error: 0.3791\n",
            "Epoch 69/100\n",
            "27/27 [==============================] - 0s 5ms/step - loss: 0.6604 - root_mean_squared_error: 0.3229 - val_loss: 0.7396 - val_root_mean_squared_error: 0.3785\n",
            "Epoch 70/100\n",
            "27/27 [==============================] - 0s 6ms/step - loss: 0.6668 - root_mean_squared_error: 0.3275 - val_loss: 0.7383 - val_root_mean_squared_error: 0.3777\n",
            "Epoch 71/100\n",
            "27/27 [==============================] - 0s 6ms/step - loss: 0.6617 - root_mean_squared_error: 0.3240 - val_loss: 0.7383 - val_root_mean_squared_error: 0.3777\n",
            "Epoch 72/100\n",
            "27/27 [==============================] - 0s 5ms/step - loss: 0.6654 - root_mean_squared_error: 0.3267 - val_loss: 0.7386 - val_root_mean_squared_error: 0.3778\n",
            "Epoch 73/100\n",
            "27/27 [==============================] - 0s 5ms/step - loss: 0.6597 - root_mean_squared_error: 0.3222 - val_loss: 0.7380 - val_root_mean_squared_error: 0.3775\n",
            "Epoch 74/100\n",
            "27/27 [==============================] - 0s 5ms/step - loss: 0.6598 - root_mean_squared_error: 0.3224 - val_loss: 0.7377 - val_root_mean_squared_error: 0.3773\n",
            "Epoch 75/100\n",
            "27/27 [==============================] - 0s 5ms/step - loss: 0.6631 - root_mean_squared_error: 0.3249 - val_loss: 0.7398 - val_root_mean_squared_error: 0.3785\n",
            "Epoch 76/100\n",
            "27/27 [==============================] - 0s 5ms/step - loss: 0.6627 - root_mean_squared_error: 0.3250 - val_loss: 0.7410 - val_root_mean_squared_error: 0.3793\n",
            "Epoch 77/100\n",
            "27/27 [==============================] - 0s 5ms/step - loss: 0.6624 - root_mean_squared_error: 0.3245 - val_loss: 0.7395 - val_root_mean_squared_error: 0.3783\n",
            "Epoch 78/100\n",
            "27/27 [==============================] - 0s 6ms/step - loss: 0.6592 - root_mean_squared_error: 0.3220 - val_loss: 0.7394 - val_root_mean_squared_error: 0.3782\n",
            "Epoch 79/100\n",
            "27/27 [==============================] - 0s 5ms/step - loss: 0.6570 - root_mean_squared_error: 0.3204 - val_loss: 0.7397 - val_root_mean_squared_error: 0.3784\n",
            "Epoch 80/100\n",
            "27/27 [==============================] - 0s 5ms/step - loss: 0.6598 - root_mean_squared_error: 0.3226 - val_loss: 0.7397 - val_root_mean_squared_error: 0.3784\n",
            "Epoch 81/100\n",
            "27/27 [==============================] - 0s 5ms/step - loss: 0.6562 - root_mean_squared_error: 0.3198 - val_loss: 0.7413 - val_root_mean_squared_error: 0.3794\n",
            "Epoch 82/100\n",
            "27/27 [==============================] - 0s 6ms/step - loss: 0.6533 - root_mean_squared_error: 0.3176 - val_loss: 0.7433 - val_root_mean_squared_error: 0.3805\n",
            "Epoch 83/100\n",
            "27/27 [==============================] - 0s 5ms/step - loss: 0.6619 - root_mean_squared_error: 0.3239 - val_loss: 0.7435 - val_root_mean_squared_error: 0.3806\n",
            "Epoch 84/100\n",
            "27/27 [==============================] - 0s 6ms/step - loss: 0.6538 - root_mean_squared_error: 0.3179 - val_loss: 0.7435 - val_root_mean_squared_error: 0.3805\n",
            "Epoch 85/100\n",
            "27/27 [==============================] - 0s 6ms/step - loss: 0.6509 - root_mean_squared_error: 0.3157 - val_loss: 0.7443 - val_root_mean_squared_error: 0.3810\n",
            "Epoch 86/100\n",
            "27/27 [==============================] - 0s 5ms/step - loss: 0.6551 - root_mean_squared_error: 0.3188 - val_loss: 0.7431 - val_root_mean_squared_error: 0.3803\n",
            "Epoch 87/100\n",
            "27/27 [==============================] - 0s 6ms/step - loss: 0.6552 - root_mean_squared_error: 0.3192 - val_loss: 0.7428 - val_root_mean_squared_error: 0.3801\n",
            "Epoch 88/100\n",
            "27/27 [==============================] - 0s 5ms/step - loss: 0.6520 - root_mean_squared_error: 0.3166 - val_loss: 0.7439 - val_root_mean_squared_error: 0.3807\n",
            "Epoch 89/100\n",
            "27/27 [==============================] - 0s 6ms/step - loss: 0.6514 - root_mean_squared_error: 0.3162 - val_loss: 0.7434 - val_root_mean_squared_error: 0.3804\n",
            "Epoch 90/100\n",
            "27/27 [==============================] - 0s 6ms/step - loss: 0.6540 - root_mean_squared_error: 0.3181 - val_loss: 0.7438 - val_root_mean_squared_error: 0.3807\n",
            "Epoch 91/100\n",
            "27/27 [==============================] - 0s 7ms/step - loss: 0.6547 - root_mean_squared_error: 0.3187 - val_loss: 0.7444 - val_root_mean_squared_error: 0.3810\n",
            "Epoch 92/100\n",
            "27/27 [==============================] - 0s 6ms/step - loss: 0.6490 - root_mean_squared_error: 0.3143 - val_loss: 0.7439 - val_root_mean_squared_error: 0.3807\n",
            "Epoch 93/100\n",
            "27/27 [==============================] - 0s 7ms/step - loss: 0.6510 - root_mean_squared_error: 0.3158 - val_loss: 0.7433 - val_root_mean_squared_error: 0.3803\n",
            "Epoch 94/100\n",
            "27/27 [==============================] - 0s 5ms/step - loss: 0.6520 - root_mean_squared_error: 0.3167 - val_loss: 0.7444 - val_root_mean_squared_error: 0.3810\n",
            "Epoch 95/100\n",
            "27/27 [==============================] - 0s 5ms/step - loss: 0.6505 - root_mean_squared_error: 0.3153 - val_loss: 0.7448 - val_root_mean_squared_error: 0.3812\n",
            "Epoch 96/100\n",
            "27/27 [==============================] - 0s 5ms/step - loss: 0.6521 - root_mean_squared_error: 0.3166 - val_loss: 0.7454 - val_root_mean_squared_error: 0.3815\n",
            "Epoch 97/100\n",
            "27/27 [==============================] - 0s 4ms/step - loss: 0.6511 - root_mean_squared_error: 0.3157 - val_loss: 0.7461 - val_root_mean_squared_error: 0.3820\n",
            "Epoch 98/100\n",
            "27/27 [==============================] - 0s 5ms/step - loss: 0.6508 - root_mean_squared_error: 0.3158 - val_loss: 0.7463 - val_root_mean_squared_error: 0.3821\n",
            "Epoch 99/100\n",
            "27/27 [==============================] - 0s 4ms/step - loss: 0.6504 - root_mean_squared_error: 0.3153 - val_loss: 0.7460 - val_root_mean_squared_error: 0.3819\n",
            "Epoch 100/100\n",
            "27/27 [==============================] - 0s 4ms/step - loss: 0.6517 - root_mean_squared_error: 0.3164 - val_loss: 0.7453 - val_root_mean_squared_error: 0.3815\n"
          ]
        }
      ]
    },
    {
      "cell_type": "code",
      "source": [
        "# Menampilkan plot loss dan validation\n",
        "\n",
        "plt.plot(history.history['root_mean_squared_error'])\n",
        "plt.plot(history.history['val_root_mean_squared_error'])\n",
        "plt.title('model_metrics')\n",
        "plt.ylabel('root_mean_squared_error')\n",
        "plt.xlabel('epoch')\n",
        "plt.ylim(ymin=0, ymax=0.4)\n",
        "plt.legend(['train', 'test'], loc='center left')\n",
        "plt.show()"
      ],
      "metadata": {
        "colab": {
          "base_uri": "https://localhost:8080/",
          "height": 480
        },
        "id": "9gajnSZZWBFF",
        "outputId": "9a3c51a4-b6e8-4cfa-e3ba-1309b170a45f"
      },
      "execution_count": null,
      "outputs": [
        {
          "output_type": "display_data",
          "data": {
            "text/plain": [
              "<Figure size 640x480 with 1 Axes>"
            ],
            "image/png": "[encoded data removed]"
          },
          "metadata": {}
        }
      ]
    },
    {
      "cell_type": "code",
      "source": [
        "# Menyiapkan dataframe\n",
        "place_df = place[['Place_Id','Place_Name','Category','Rating','Price']]\n",
        "place_df.columns = ['id','place_name','category','rating','price']\n",
        "df = rating.copy()"
      ],
      "metadata": {
        "id": "x2c6F6pCWc6C"
      },
      "execution_count": null,
      "outputs": []
    },
    {
      "cell_type": "code",
      "source": [
        "# Mengambil sample user\n",
        "user_id = df.User_Id.sample(1).iloc[0]\n",
        "place_visited_by_user = df[df.User_Id == user_id]"
      ],
      "metadata": {
        "id": "W43ZvDdcWlY4"
      },
      "execution_count": null,
      "outputs": []
    },
    {
      "cell_type": "code",
      "source": [
        "# Membuat data lokasi yang belum dikunjungi user\n",
        "place_not_visited = place_df[~place_df['id'].isin(place_visited_by_user.Place_Id.values)]['id'] \n",
        "place_not_visited = list(\n",
        "    set(place_not_visited)\n",
        "    .intersection(set(place_to_place_encoded.keys()))\n",
        ")\n",
        " \n",
        "place_not_visited = [[place_to_place_encoded.get(x)] for x in place_not_visited]\n",
        "user_encoder = user_to_user_encoded.get(user_id)\n",
        "user_place_array = np.hstack(\n",
        "    ([[user_encoder]] * len(place_not_visited), place_not_visited)\n",
        ")"
      ],
      "metadata": {
        "id": "UoZ6IJbIWpv4"
      },
      "execution_count": null,
      "outputs": []
    },
    {
      "cell_type": "code",
      "source": [
        "# Mengambil top 7 recommendation\n",
        "ratings = model.predict(user_place_array).flatten()\n",
        "top_ratings_indices = ratings.argsort()[-10:][::-1]\n",
        "recommended_place_ids = [\n",
        "    place_encoded_to_place.get(place_not_visited[x][0]) for x in top_ratings_indices\n",
        "]\n",
        " \n",
        "print('Daftar rekomendasi untuk: {}'.format('User ' + str(user_id)))\n",
        "print('===' * 15,'\\n')\n",
        "print('----' * 15)\n",
        "print('Tempat dengan rating wisata paling tinggi dari user')\n",
        "print('----' * 15)\n",
        " \n",
        "top_place_user = (\n",
        "    place_visited_by_user.sort_values(\n",
        "        by = 'Place_Ratings',\n",
        "        ascending=False\n",
        "    )\n",
        "    .head(5)\n",
        "    .Place_Id.values\n",
        ")\n",
        " \n",
        "place_df_rows = place_df[place_df['id'].isin(top_place_user)]\n",
        "for row in place_df_rows.itertuples():\n",
        "    print(row.place_name, ':', row.category)\n",
        "\n",
        "print('')\n",
        "print('----' * 15)\n",
        "print('Top 10 place recommendation')\n",
        "print('----' * 15)\n",
        " \n",
        "recommended_place = place_df[place_df['id'].isin(recommended_place_ids)]\n",
        "for row, i in zip(recommended_place.itertuples(), range(1,11)):\n",
        "    print(i,'.', row.place_name, '\\n    ', row.category, ',', 'Harga Tiket Masuk ', row.price, ',', 'Rating Wisata ', row.rating,'\\n')\n",
        "\n",
        "print('==='*15)"
      ],
      "metadata": {
        "colab": {
          "base_uri": "https://localhost:8080/"
        },
        "id": "8hrZPki2WtSl",
        "outputId": "c1b7eeb6-6d67-4012-98a6-399b2efc9fc1"
      },
      "execution_count": null,
      "outputs": [
        {
          "output_type": "stream",
          "name": "stdout",
          "text": [
            "2/2 [==============================] - 0s 5ms/step\n",
            "Daftar rekomendasi untuk: User 33\n",
            "============================================= \n",
            "\n",
            "------------------------------------------------------------\n",
            "Tempat dengan rating wisata paling tinggi dari user\n",
            "------------------------------------------------------------\n",
            "Keraton Surabaya : Budaya\n",
            "House of Sampoerna : Budaya\n",
            "Taman Air Mancur Menari Kenjeran : Taman Hiburan\n",
            "\n",
            "------------------------------------------------------------\n",
            "Top 10 place recommendation\n",
            "------------------------------------------------------------\n",
            "1 . Taman Keputran \n",
            "     Taman Hiburan , Harga Tiket Masuk  0 , Rating Wisata  4.3 \n",
            "\n",
            "2 . Waterpark Kenjeran Surabaya \n",
            "     Taman Hiburan , Harga Tiket Masuk  35000 , Rating Wisata  4.1 \n",
            "\n",
            "3 . Patung Buddha Empat Rupa \n",
            "     Budaya , Harga Tiket Masuk  0 , Rating Wisata  4.3 \n",
            "\n",
            "4 . Monumen Bambu Runcing Surabaya \n",
            "     Budaya , Harga Tiket Masuk  0 , Rating Wisata  4.6 \n",
            "\n",
            "5 . Atlantis Land Surabaya \n",
            "     Taman Hiburan , Harga Tiket Masuk  125000 , Rating Wisata  4.4 \n",
            "\n",
            "6 . Taman Hiburan Rakyat \n",
            "     Taman Hiburan , Harga Tiket Masuk  5000 , Rating Wisata  4.2 \n",
            "\n",
            "7 . Taman Mundu \n",
            "     Taman Hiburan , Harga Tiket Masuk  0 , Rating Wisata  4.4 \n",
            "\n",
            "8 . Museum Mpu Tantular \n",
            "     Budaya , Harga Tiket Masuk  2000 , Rating Wisata  4.4 \n",
            "\n",
            "9 . Taman Flora Bratang Surabaya \n",
            "     Taman Hiburan , Harga Tiket Masuk  0 , Rating Wisata  4.6 \n",
            "\n",
            "10 . Gereja Perawan Maria Tak Berdosa Surabaya \n",
            "     Tempat Ibadah , Harga Tiket Masuk  10000 , Rating Wisata  4.8 \n",
            "\n",
            "=============================================\n"
          ]
        }
      ]
    },
    {
      "cell_type": "code",
      "source": [],
      "metadata": {
        "id": "DMVbQZ-7XGWn"
      },
      "execution_count": null,
      "outputs": []
    }
  ]
}